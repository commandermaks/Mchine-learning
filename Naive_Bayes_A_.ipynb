{
  "cells": [
    {
      "cell_type": "markdown",
      "metadata": {
        "id": "view-in-github",
        "colab_type": "text"
      },
      "source": [
        "<a href=\"https://colab.research.google.com/github/commandermaks/Mchine-learning/blob/main/Naive_Bayes_A_.ipynb\" target=\"_parent\"><img src=\"https://colab.research.google.com/assets/colab-badge.svg\" alt=\"Open In Colab\"/></a>"
      ]
    },
    {
      "cell_type": "markdown",
      "metadata": {
        "id": "Q8vMRB39Q_Y0"
      },
      "source": [
        "## Introduction\n",
        "\n",
        "In this notebook, we will explore a machine learning classifier – the Naive Bayes classifier, which uses the Bayes’ theorem to classify test examples into one of the defined classes."
      ]
    },
    {
      "cell_type": "markdown",
      "metadata": {
        "id": "-FsNqQ6wQ_Y4"
      },
      "source": [
        "## Bayes' Theorem\n",
        "\n",
        "In Statistics and probability theory, Bayes’ theorem describes the probability of an event, based on prior knowledge of conditions that might be related to the event. It is a simple mathematical formula used for calculating conditional probabilities.\n",
        "\n",
        "Conditional probability is a measure of the probability of an event occurring given that another event has (by assumption, presumption, assertion, or evidence) occurred.\n",
        "\n",
        "        P(A|B) = (P(B|A).P(A))/P(B)\n",
        "\n",
        "where  P(A|B) is the probability of A occuring given B has already occured, P(B|A) is the probability of B occuring given A has already occured, P(A) is the probability of A occuring and P(B) is the probability of B occuring."
      ]
    },
    {
      "cell_type": "markdown",
      "metadata": {
        "id": "nLda-cQ9Q_Y6"
      },
      "source": [
        "## Bayes' Theorem Example\n",
        "\n",
        "Let’s suppose we have a Deck of Cards, we wish to find out the “Probability of the Card we picked at random to be a King given that it is a Face Card“. So, according to Bayes Theorem, we can solve this problem. First, we need to find out the probability\n",
        "\n",
        "     1. P(King) which is 4/52 as there are 4 Kings in a Deck of Cards.\n",
        "     2. P(Face|King) is equal to 1 as all the Kings are face Cards.\n",
        "     3. P(Face) is equal to 12/52 as there are 3 Face Cards in a Suit of 13 cards and there are 4 Suits in total.\n",
        "     \n",
        "   Now, putting all the values in the Bayes’ Equation\n",
        "   \n",
        "          P(King|Face) = (P(Face|King).P(King)) / P(Face)\n",
        "                       = (1.(1/13))/(3/13)\n",
        "                       = 1/3\n"
      ]
    },
    {
      "cell_type": "markdown",
      "metadata": {
        "id": "sMKv0UtaQ_Y6"
      },
      "source": [
        "## Naive Bayes Classifier\n",
        "\n",
        "Naive Bayes classifiers are a family of probabilistic classifiers that are based on Bayes’ theorem. It is used to solve many different problem statements, and it is quite fast in training a model since Naive Bayes classifier completely works on probability, so the conversion happens quickly. These algorithms work by combining the probabilities that an instance belongs to a class based on the value of a set of features.\n",
        "\n",
        "Naive Bayes classifier assumes that the effect of a particular feature in a class is independent of other features. For example, a loan applicant is desirable or not depending on his/her income, previous loan and transaction history, age, and location. Even if these features are interdependent, these features are still considered independently. This assumption simplifies computation, and that's why it is considered as naive.\n",
        "\n",
        "The fundamental Naïve Bayes assumption is that each feature makes an independent and equal contribution to the outcome.\n"
      ]
    },
    {
      "cell_type": "markdown",
      "metadata": {
        "id": "3_bMz5YLQ_Y7"
      },
      "source": [
        "## Types of Naive Bayes Classifier\n",
        "\n",
        "1. Multinomial Naive Bayes:\n",
        "This is mostly used for document classification problem, i.e whether a document belongs to the category of sports, politics, technology etc. The features/predictors used by the classifier are the frequency of the words present in the document.\n",
        "\n",
        "2. Bernoulli Naive Bayes:\n",
        "This is similar to the multinomial naive bayes but the predictors are boolean variables. The parameters that we use to predict the class variable take up only values yes or no, for example if a word occurs in the text or not.\n",
        "\n",
        "3. Gaussian Naive Bayes:\n",
        "In Gaussian Naïve Bayes, continuous values associated with each feature are assumed to be distributed according to a Gaussian distribution (Normal distribution)."
      ]
    },
    {
      "cell_type": "markdown",
      "metadata": {
        "id": "l9Z7DHHWQ_Y8"
      },
      "source": [
        "## How does Naive Bayes classifier work?\n",
        "\n",
        "Naive Bayes methods work by applying Bayes’ theorem with the “naive” assumption of conditional independence between every pair of features given the value of the class variable.\n",
        "\n",
        "The Bayes’ theorem states that for a given class variable y and dependent feature vector $ x = x_{1} + x_{2} ... x_{n}.$\n",
        "\n",
        "The conditional probability of the class label $y$, given the observation $x$ is:\n",
        "\n",
        "  ![Conditional_prob.png](attachment:Conditional_prob.png)\n",
        "     \n",
        "We can simplify the above expression using the naive assumption that features of measurement are independent of each other, i.e."
      ]
    },
    {
      "cell_type": "markdown",
      "metadata": {
        "id": "dbOdYT1JQ_Y9"
      },
      "source": [
        "![Second_equation.png](attachment:Second_equation.png)"
      ]
    },
    {
      "cell_type": "markdown",
      "metadata": {
        "id": "sMoFDLEHQ_Y-"
      },
      "source": [
        "which lead to:\n"
      ]
    },
    {
      "cell_type": "markdown",
      "metadata": {
        "id": "gMt0xGjQQ_Y-"
      },
      "source": [
        "![Third_equation.png](attachment:Third_equation.png)"
      ]
    },
    {
      "cell_type": "markdown",
      "metadata": {
        "id": "oSXqpZwLQ_Y_"
      },
      "source": [
        "Since, $ P(x_{1},..,x_{n}) $ is constant given the input, we use Maximum A Posteriori (MAP) estimation to estimate P(y) and $ P(x_{i} ∣ y) $, which results in:"
      ]
    },
    {
      "cell_type": "markdown",
      "metadata": {
        "id": "D0WX8jaFQ_ZA"
      },
      "source": [
        "![MAP_equation.png](attachment:MAP_equation.png)\n",
        "\n",
        "This calculation can be performed for each of the class labels, and the label with the largest probability can be selected as the classification for the given instance."
      ]
    },
    {
      "cell_type": "markdown",
      "metadata": {
        "id": "aXXFqNQPQ_ZA"
      },
      "source": [
        "## Step By Step Implementation of Naive Bayes\n",
        "\n",
        "    1. Handle Data\n",
        "    2. Summarize Data\n",
        "    3. Make Predictions\n",
        "    4. Evaluate\n"
      ]
    },
    {
      "cell_type": "markdown",
      "metadata": {
        "id": "Il5bOnQ-Q_ZA"
      },
      "source": [
        "## Dataset\n",
        "\n",
        "This Iris dataset contains 3 classes of 50 instances each, where each class refers to a type of iris plant.\n",
        "Attribute Information:\n",
        "\n",
        "1. sepal length in cm\n",
        "2. sepal width in cm\n",
        "3. petal length in cm\n",
        "4. petal width in cm\n",
        "5. class: Iris Setosa, Iris Versicolour, Iris Virginica"
      ]
    },
    {
      "cell_type": "markdown",
      "metadata": {
        "id": "_DxQhG-PQ_ZB"
      },
      "source": [
        "## Step 1: Handle Data\n",
        "\n",
        "The first thing we need to do is load our data file. The data is in CSV format. We can open the file with the read_csv function.\n"
      ]
    },
    {
      "cell_type": "code",
      "execution_count": null,
      "metadata": {
        "id": "os5XharyQ_ZB"
      },
      "outputs": [],
      "source": [
        "import numpy as np # linear algebra\n",
        "import pandas as pd # data processing, CSV file I/O\n",
        "import os\n",
        "from collections import Counter\n",
        "import math\n",
        "from scipy.stats import norm"
      ]
    },
    {
      "cell_type": "code",
      "execution_count": null,
      "metadata": {
        "colab": {
          "base_uri": "https://localhost:8080/",
          "height": 215
        },
        "id": "iGMdMOrQQ_ZC",
        "outputId": "883ed78b-aa97-4e18-ac43-f071fb4a9a3f"
      },
      "outputs": [
        {
          "output_type": "execute_result",
          "data": {
            "text/plain": [
              "   Id  SepalLengthCm  SepalWidthCm  PetalLengthCm  PetalWidthCm      Species\n",
              "0   1            5.1           3.5            1.4           0.2  Iris-setosa\n",
              "1   2            4.9           3.0            1.4           0.2  Iris-setosa\n",
              "2   3            4.7           3.2            1.3           0.2  Iris-setosa\n",
              "3   4            4.6           3.1            1.5           0.2  Iris-setosa\n",
              "4   5            5.0           3.6            1.4           0.2  Iris-setosa"
            ],
            "text/html": [
              "\n",
              "  <div id=\"df-fe6dc14f-8d46-4630-8892-3116d18629b0\">\n",
              "    <div class=\"colab-df-container\">\n",
              "      <div>\n",
              "<style scoped>\n",
              "    .dataframe tbody tr th:only-of-type {\n",
              "        vertical-align: middle;\n",
              "    }\n",
              "\n",
              "    .dataframe tbody tr th {\n",
              "        vertical-align: top;\n",
              "    }\n",
              "\n",
              "    .dataframe thead th {\n",
              "        text-align: right;\n",
              "    }\n",
              "</style>\n",
              "<table border=\"1\" class=\"dataframe\">\n",
              "  <thead>\n",
              "    <tr style=\"text-align: right;\">\n",
              "      <th></th>\n",
              "      <th>Id</th>\n",
              "      <th>SepalLengthCm</th>\n",
              "      <th>SepalWidthCm</th>\n",
              "      <th>PetalLengthCm</th>\n",
              "      <th>PetalWidthCm</th>\n",
              "      <th>Species</th>\n",
              "    </tr>\n",
              "  </thead>\n",
              "  <tbody>\n",
              "    <tr>\n",
              "      <th>0</th>\n",
              "      <td>1</td>\n",
              "      <td>5.1</td>\n",
              "      <td>3.5</td>\n",
              "      <td>1.4</td>\n",
              "      <td>0.2</td>\n",
              "      <td>Iris-setosa</td>\n",
              "    </tr>\n",
              "    <tr>\n",
              "      <th>1</th>\n",
              "      <td>2</td>\n",
              "      <td>4.9</td>\n",
              "      <td>3.0</td>\n",
              "      <td>1.4</td>\n",
              "      <td>0.2</td>\n",
              "      <td>Iris-setosa</td>\n",
              "    </tr>\n",
              "    <tr>\n",
              "      <th>2</th>\n",
              "      <td>3</td>\n",
              "      <td>4.7</td>\n",
              "      <td>3.2</td>\n",
              "      <td>1.3</td>\n",
              "      <td>0.2</td>\n",
              "      <td>Iris-setosa</td>\n",
              "    </tr>\n",
              "    <tr>\n",
              "      <th>3</th>\n",
              "      <td>4</td>\n",
              "      <td>4.6</td>\n",
              "      <td>3.1</td>\n",
              "      <td>1.5</td>\n",
              "      <td>0.2</td>\n",
              "      <td>Iris-setosa</td>\n",
              "    </tr>\n",
              "    <tr>\n",
              "      <th>4</th>\n",
              "      <td>5</td>\n",
              "      <td>5.0</td>\n",
              "      <td>3.6</td>\n",
              "      <td>1.4</td>\n",
              "      <td>0.2</td>\n",
              "      <td>Iris-setosa</td>\n",
              "    </tr>\n",
              "  </tbody>\n",
              "</table>\n",
              "</div>\n",
              "      <button class=\"colab-df-convert\" onclick=\"convertToInteractive('df-fe6dc14f-8d46-4630-8892-3116d18629b0')\"\n",
              "              title=\"Convert this dataframe to an interactive table.\"\n",
              "              style=\"display:none;\">\n",
              "        \n",
              "  <svg xmlns=\"http://www.w3.org/2000/svg\" height=\"24px\"viewBox=\"0 0 24 24\"\n",
              "       width=\"24px\">\n",
              "    <path d=\"M0 0h24v24H0V0z\" fill=\"none\"/>\n",
              "    <path d=\"M18.56 5.44l.94 2.06.94-2.06 2.06-.94-2.06-.94-.94-2.06-.94 2.06-2.06.94zm-11 1L8.5 8.5l.94-2.06 2.06-.94-2.06-.94L8.5 2.5l-.94 2.06-2.06.94zm10 10l.94 2.06.94-2.06 2.06-.94-2.06-.94-.94-2.06-.94 2.06-2.06.94z\"/><path d=\"M17.41 7.96l-1.37-1.37c-.4-.4-.92-.59-1.43-.59-.52 0-1.04.2-1.43.59L10.3 9.45l-7.72 7.72c-.78.78-.78 2.05 0 2.83L4 21.41c.39.39.9.59 1.41.59.51 0 1.02-.2 1.41-.59l7.78-7.78 2.81-2.81c.8-.78.8-2.07 0-2.86zM5.41 20L4 18.59l7.72-7.72 1.47 1.35L5.41 20z\"/>\n",
              "  </svg>\n",
              "      </button>\n",
              "      \n",
              "  <style>\n",
              "    .colab-df-container {\n",
              "      display:flex;\n",
              "      flex-wrap:wrap;\n",
              "      gap: 12px;\n",
              "    }\n",
              "\n",
              "    .colab-df-convert {\n",
              "      background-color: #E8F0FE;\n",
              "      border: none;\n",
              "      border-radius: 50%;\n",
              "      cursor: pointer;\n",
              "      display: none;\n",
              "      fill: #1967D2;\n",
              "      height: 32px;\n",
              "      padding: 0 0 0 0;\n",
              "      width: 32px;\n",
              "    }\n",
              "\n",
              "    .colab-df-convert:hover {\n",
              "      background-color: #E2EBFA;\n",
              "      box-shadow: 0px 1px 2px rgba(60, 64, 67, 0.3), 0px 1px 3px 1px rgba(60, 64, 67, 0.15);\n",
              "      fill: #174EA6;\n",
              "    }\n",
              "\n",
              "    [theme=dark] .colab-df-convert {\n",
              "      background-color: #3B4455;\n",
              "      fill: #D2E3FC;\n",
              "    }\n",
              "\n",
              "    [theme=dark] .colab-df-convert:hover {\n",
              "      background-color: #434B5C;\n",
              "      box-shadow: 0px 1px 3px 1px rgba(0, 0, 0, 0.15);\n",
              "      filter: drop-shadow(0px 1px 2px rgba(0, 0, 0, 0.3));\n",
              "      fill: #FFFFFF;\n",
              "    }\n",
              "  </style>\n",
              "\n",
              "      <script>\n",
              "        const buttonEl =\n",
              "          document.querySelector('#df-fe6dc14f-8d46-4630-8892-3116d18629b0 button.colab-df-convert');\n",
              "        buttonEl.style.display =\n",
              "          google.colab.kernel.accessAllowed ? 'block' : 'none';\n",
              "\n",
              "        async function convertToInteractive(key) {\n",
              "          const element = document.querySelector('#df-fe6dc14f-8d46-4630-8892-3116d18629b0');\n",
              "          const dataTable =\n",
              "            await google.colab.kernel.invokeFunction('convertToInteractive',\n",
              "                                                     [key], {});\n",
              "          if (!dataTable) return;\n",
              "\n",
              "          const docLinkHtml = 'Like what you see? Visit the ' +\n",
              "            '<a target=\"_blank\" href=https://colab.research.google.com/notebooks/data_table.ipynb>data table notebook</a>'\n",
              "            + ' to learn more about interactive tables.';\n",
              "          element.innerHTML = '';\n",
              "          dataTable['output_type'] = 'display_data';\n",
              "          await google.colab.output.renderOutput(dataTable, element);\n",
              "          const docLink = document.createElement('div');\n",
              "          docLink.innerHTML = docLinkHtml;\n",
              "          element.appendChild(docLink);\n",
              "        }\n",
              "      </script>\n",
              "    </div>\n",
              "  </div>\n",
              "  "
            ]
          },
          "metadata": {},
          "execution_count": 13
        }
      ],
      "source": [
        "iris = pd.read_csv('Iris.csv')\n",
        "iris.head()"
      ]
    },
    {
      "cell_type": "markdown",
      "metadata": {
        "id": "-WWEWIFXQ_ZD"
      },
      "source": [
        "## Step 2: Summarize the Data\n"
      ]
    },
    {
      "cell_type": "code",
      "execution_count": null,
      "metadata": {
        "colab": {
          "base_uri": "https://localhost:8080/"
        },
        "id": "xTlwV2awQ_ZE",
        "outputId": "3710f2c3-b161-4ed4-b603-5a6f12953d06"
      },
      "outputs": [
        {
          "output_type": "stream",
          "name": "stdout",
          "text": [
            "<class 'pandas.core.frame.DataFrame'>\n",
            "RangeIndex: 150 entries, 0 to 149\n",
            "Data columns (total 6 columns):\n",
            " #   Column         Non-Null Count  Dtype  \n",
            "---  ------         --------------  -----  \n",
            " 0   Id             150 non-null    int64  \n",
            " 1   SepalLengthCm  150 non-null    float64\n",
            " 2   SepalWidthCm   150 non-null    float64\n",
            " 3   PetalLengthCm  150 non-null    float64\n",
            " 4   PetalWidthCm   150 non-null    float64\n",
            " 5   Species        150 non-null    object \n",
            "dtypes: float64(4), int64(1), object(1)\n",
            "memory usage: 7.2+ KB\n"
          ]
        }
      ],
      "source": [
        "iris.info()"
      ]
    },
    {
      "cell_type": "code",
      "execution_count": null,
      "metadata": {
        "colab": {
          "base_uri": "https://localhost:8080/"
        },
        "id": "boOpHgTUQ_ZE",
        "outputId": "fae51093-fd19-4927-e945-2bffd4ee534d"
      },
      "outputs": [
        {
          "output_type": "stream",
          "name": "stdout",
          "text": [
            "['Iris-setosa', 'Iris-versicolor', 'Iris-virginica']\n"
          ]
        }
      ],
      "source": [
        "target_category = iris[\"Species\"].unique()\n",
        "target_category=list(map(str,target_category))\n",
        "print(target_category)"
      ]
    },
    {
      "cell_type": "markdown",
      "metadata": {
        "id": "zjAB26WEQ_ZE"
      },
      "source": [
        "**Data Visualization**"
      ]
    },
    {
      "cell_type": "code",
      "execution_count": null,
      "metadata": {
        "colab": {
          "base_uri": "https://localhost:8080/",
          "height": 354
        },
        "id": "eK48l3ZOQ_ZF",
        "outputId": "8c947bb4-143b-47cb-a268-9d26edb6eb41"
      },
      "outputs": [
        {
          "output_type": "execute_result",
          "data": {
            "text/plain": [
              "<matplotlib.axes._subplots.AxesSubplot at 0x7fa20cb8b0d0>"
            ]
          },
          "metadata": {},
          "execution_count": 17
        },
        {
          "output_type": "display_data",
          "data": {
            "text/plain": [
              "<Figure size 432x288 with 1 Axes>"
            ],
            "image/png": "[encoded data removed]"
          },
          "metadata": {
            "needs_background": "light"
          }
        }
      ],
      "source": [
        "iris.groupby(\"Species\").Species.count().plot.bar(ylim=0)"
      ]
    },
    {
      "cell_type": "code",
      "execution_count": null,
      "metadata": {
        "id": "LFHCSjjBQ_ZF"
      },
      "outputs": [],
      "source": [
        "species = iris.Species\n",
        "data = iris.drop(columns=['Species','Id'])"
      ]
    },
    {
      "cell_type": "code",
      "execution_count": null,
      "metadata": {
        "colab": {
          "base_uri": "https://localhost:8080/",
          "height": 215
        },
        "id": "JTP_XPKHQ_ZF",
        "outputId": "070270fe-9179-4c00-a4c7-289e6c4df0b5"
      },
      "outputs": [
        {
          "output_type": "execute_result",
          "data": {
            "text/plain": [
              "   SepalLengthCm  SepalWidthCm  PetalLengthCm  PetalWidthCm\n",
              "0            5.1           3.5            1.4           0.2\n",
              "1            4.9           3.0            1.4           0.2\n",
              "2            4.7           3.2            1.3           0.2\n",
              "3            4.6           3.1            1.5           0.2\n",
              "4            5.0           3.6            1.4           0.2"
            ],
            "text/html": [
              "\n",
              "  <div id=\"df-53629342-cdfc-4a16-ab42-48204df8e91b\">\n",
              "    <div class=\"colab-df-container\">\n",
              "      <div>\n",
              "<style scoped>\n",
              "    .dataframe tbody tr th:only-of-type {\n",
              "        vertical-align: middle;\n",
              "    }\n",
              "\n",
              "    .dataframe tbody tr th {\n",
              "        vertical-align: top;\n",
              "    }\n",
              "\n",
              "    .dataframe thead th {\n",
              "        text-align: right;\n",
              "    }\n",
              "</style>\n",
              "<table border=\"1\" class=\"dataframe\">\n",
              "  <thead>\n",
              "    <tr style=\"text-align: right;\">\n",
              "      <th></th>\n",
              "      <th>SepalLengthCm</th>\n",
              "      <th>SepalWidthCm</th>\n",
              "      <th>PetalLengthCm</th>\n",
              "      <th>PetalWidthCm</th>\n",
              "    </tr>\n",
              "  </thead>\n",
              "  <tbody>\n",
              "    <tr>\n",
              "      <th>0</th>\n",
              "      <td>5.1</td>\n",
              "      <td>3.5</td>\n",
              "      <td>1.4</td>\n",
              "      <td>0.2</td>\n",
              "    </tr>\n",
              "    <tr>\n",
              "      <th>1</th>\n",
              "      <td>4.9</td>\n",
              "      <td>3.0</td>\n",
              "      <td>1.4</td>\n",
              "      <td>0.2</td>\n",
              "    </tr>\n",
              "    <tr>\n",
              "      <th>2</th>\n",
              "      <td>4.7</td>\n",
              "      <td>3.2</td>\n",
              "      <td>1.3</td>\n",
              "      <td>0.2</td>\n",
              "    </tr>\n",
              "    <tr>\n",
              "      <th>3</th>\n",
              "      <td>4.6</td>\n",
              "      <td>3.1</td>\n",
              "      <td>1.5</td>\n",
              "      <td>0.2</td>\n",
              "    </tr>\n",
              "    <tr>\n",
              "      <th>4</th>\n",
              "      <td>5.0</td>\n",
              "      <td>3.6</td>\n",
              "      <td>1.4</td>\n",
              "      <td>0.2</td>\n",
              "    </tr>\n",
              "  </tbody>\n",
              "</table>\n",
              "</div>\n",
              "      <button class=\"colab-df-convert\" onclick=\"convertToInteractive('df-53629342-cdfc-4a16-ab42-48204df8e91b')\"\n",
              "              title=\"Convert this dataframe to an interactive table.\"\n",
              "              style=\"display:none;\">\n",
              "        \n",
              "  <svg xmlns=\"http://www.w3.org/2000/svg\" height=\"24px\"viewBox=\"0 0 24 24\"\n",
              "       width=\"24px\">\n",
              "    <path d=\"M0 0h24v24H0V0z\" fill=\"none\"/>\n",
              "    <path d=\"M18.56 5.44l.94 2.06.94-2.06 2.06-.94-2.06-.94-.94-2.06-.94 2.06-2.06.94zm-11 1L8.5 8.5l.94-2.06 2.06-.94-2.06-.94L8.5 2.5l-.94 2.06-2.06.94zm10 10l.94 2.06.94-2.06 2.06-.94-2.06-.94-.94-2.06-.94 2.06-2.06.94z\"/><path d=\"M17.41 7.96l-1.37-1.37c-.4-.4-.92-.59-1.43-.59-.52 0-1.04.2-1.43.59L10.3 9.45l-7.72 7.72c-.78.78-.78 2.05 0 2.83L4 21.41c.39.39.9.59 1.41.59.51 0 1.02-.2 1.41-.59l7.78-7.78 2.81-2.81c.8-.78.8-2.07 0-2.86zM5.41 20L4 18.59l7.72-7.72 1.47 1.35L5.41 20z\"/>\n",
              "  </svg>\n",
              "      </button>\n",
              "      \n",
              "  <style>\n",
              "    .colab-df-container {\n",
              "      display:flex;\n",
              "      flex-wrap:wrap;\n",
              "      gap: 12px;\n",
              "    }\n",
              "\n",
              "    .colab-df-convert {\n",
              "      background-color: #E8F0FE;\n",
              "      border: none;\n",
              "      border-radius: 50%;\n",
              "      cursor: pointer;\n",
              "      display: none;\n",
              "      fill: #1967D2;\n",
              "      height: 32px;\n",
              "      padding: 0 0 0 0;\n",
              "      width: 32px;\n",
              "    }\n",
              "\n",
              "    .colab-df-convert:hover {\n",
              "      background-color: #E2EBFA;\n",
              "      box-shadow: 0px 1px 2px rgba(60, 64, 67, 0.3), 0px 1px 3px 1px rgba(60, 64, 67, 0.15);\n",
              "      fill: #174EA6;\n",
              "    }\n",
              "\n",
              "    [theme=dark] .colab-df-convert {\n",
              "      background-color: #3B4455;\n",
              "      fill: #D2E3FC;\n",
              "    }\n",
              "\n",
              "    [theme=dark] .colab-df-convert:hover {\n",
              "      background-color: #434B5C;\n",
              "      box-shadow: 0px 1px 3px 1px rgba(0, 0, 0, 0.15);\n",
              "      filter: drop-shadow(0px 1px 2px rgba(0, 0, 0, 0.3));\n",
              "      fill: #FFFFFF;\n",
              "    }\n",
              "  </style>\n",
              "\n",
              "      <script>\n",
              "        const buttonEl =\n",
              "          document.querySelector('#df-53629342-cdfc-4a16-ab42-48204df8e91b button.colab-df-convert');\n",
              "        buttonEl.style.display =\n",
              "          google.colab.kernel.accessAllowed ? 'block' : 'none';\n",
              "\n",
              "        async function convertToInteractive(key) {\n",
              "          const element = document.querySelector('#df-53629342-cdfc-4a16-ab42-48204df8e91b');\n",
              "          const dataTable =\n",
              "            await google.colab.kernel.invokeFunction('convertToInteractive',\n",
              "                                                     [key], {});\n",
              "          if (!dataTable) return;\n",
              "\n",
              "          const docLinkHtml = 'Like what you see? Visit the ' +\n",
              "            '<a target=\"_blank\" href=https://colab.research.google.com/notebooks/data_table.ipynb>data table notebook</a>'\n",
              "            + ' to learn more about interactive tables.';\n",
              "          element.innerHTML = '';\n",
              "          dataTable['output_type'] = 'display_data';\n",
              "          await google.colab.output.renderOutput(dataTable, element);\n",
              "          const docLink = document.createElement('div');\n",
              "          docLink.innerHTML = docLinkHtml;\n",
              "          element.appendChild(docLink);\n",
              "        }\n",
              "      </script>\n",
              "    </div>\n",
              "  </div>\n",
              "  "
            ]
          },
          "metadata": {},
          "execution_count": 19
        }
      ],
      "source": [
        "data.head()"
      ]
    },
    {
      "cell_type": "code",
      "execution_count": null,
      "metadata": {
        "id": "ZX22iiKWQ_ZG",
        "outputId": "1c2851b8-13f5-4543-b38b-9adf8ae86988"
      },
      "outputs": [
        {
          "data": {
            "text/html": [
              "<div>\n",
              "<style scoped>\n",
              "    .dataframe tbody tr th:only-of-type {\n",
              "        vertical-align: middle;\n",
              "    }\n",
              "\n",
              "    .dataframe tbody tr th {\n",
              "        vertical-align: top;\n",
              "    }\n",
              "\n",
              "    .dataframe thead th {\n",
              "        text-align: right;\n",
              "    }\n",
              "</style>\n",
              "<table border=\"1\" class=\"dataframe\">\n",
              "  <thead>\n",
              "    <tr style=\"text-align: right;\">\n",
              "      <th></th>\n",
              "      <th>Id</th>\n",
              "      <th>SepalLengthCm</th>\n",
              "      <th>SepalWidthCm</th>\n",
              "      <th>PetalLengthCm</th>\n",
              "      <th>PetalWidthCm</th>\n",
              "      <th>Species</th>\n",
              "      <th>Category</th>\n",
              "    </tr>\n",
              "  </thead>\n",
              "  <tbody>\n",
              "    <tr>\n",
              "      <th>0</th>\n",
              "      <td>1</td>\n",
              "      <td>5.1</td>\n",
              "      <td>3.5</td>\n",
              "      <td>1.4</td>\n",
              "      <td>0.2</td>\n",
              "      <td>Iris-setosa</td>\n",
              "      <td>0</td>\n",
              "    </tr>\n",
              "    <tr>\n",
              "      <th>1</th>\n",
              "      <td>2</td>\n",
              "      <td>4.9</td>\n",
              "      <td>3.0</td>\n",
              "      <td>1.4</td>\n",
              "      <td>0.2</td>\n",
              "      <td>Iris-setosa</td>\n",
              "      <td>0</td>\n",
              "    </tr>\n",
              "    <tr>\n",
              "      <th>2</th>\n",
              "      <td>3</td>\n",
              "      <td>4.7</td>\n",
              "      <td>3.2</td>\n",
              "      <td>1.3</td>\n",
              "      <td>0.2</td>\n",
              "      <td>Iris-setosa</td>\n",
              "      <td>0</td>\n",
              "    </tr>\n",
              "    <tr>\n",
              "      <th>3</th>\n",
              "      <td>4</td>\n",
              "      <td>4.6</td>\n",
              "      <td>3.1</td>\n",
              "      <td>1.5</td>\n",
              "      <td>0.2</td>\n",
              "      <td>Iris-setosa</td>\n",
              "      <td>0</td>\n",
              "    </tr>\n",
              "    <tr>\n",
              "      <th>4</th>\n",
              "      <td>5</td>\n",
              "      <td>5.0</td>\n",
              "      <td>3.6</td>\n",
              "      <td>1.4</td>\n",
              "      <td>0.2</td>\n",
              "      <td>Iris-setosa</td>\n",
              "      <td>0</td>\n",
              "    </tr>\n",
              "  </tbody>\n",
              "</table>\n",
              "</div>"
            ],
            "text/plain": [
              "   Id  SepalLengthCm  SepalWidthCm  PetalLengthCm  PetalWidthCm      Species  \\\n",
              "0   1            5.1           3.5            1.4           0.2  Iris-setosa   \n",
              "1   2            4.9           3.0            1.4           0.2  Iris-setosa   \n",
              "2   3            4.7           3.2            1.3           0.2  Iris-setosa   \n",
              "3   4            4.6           3.1            1.5           0.2  Iris-setosa   \n",
              "4   5            5.0           3.6            1.4           0.2  Iris-setosa   \n",
              "\n",
              "   Category  \n",
              "0         0  \n",
              "1         0  \n",
              "2         0  \n",
              "3         0  \n",
              "4         0  "
            ]
          },
          "execution_count": 8,
          "metadata": {},
          "output_type": "execute_result"
        }
      ],
      "source": [
        "iris['Category'] = iris['Species'].factorize()[0]\n",
        "category = iris['Category']\n",
        "iris.head()"
      ]
    },
    {
      "cell_type": "markdown",
      "metadata": {
        "id": "RfMns9ZsQ_ZH"
      },
      "source": [
        "**Split dataset into train/test**\n",
        "\n"
      ]
    },
    {
      "cell_type": "code",
      "execution_count": null,
      "metadata": {
        "id": "Js1V9ua5Q_ZH",
        "outputId": "04834d24-3d83-4dff-99b7-ddafcc25ea77"
      },
      "outputs": [
        {
          "name": "stdout",
          "output_type": "stream",
          "text": [
            "[40 40 40]\n"
          ]
        }
      ],
      "source": [
        "#split dataset into test set(20%) and train set(80%) using stratify to split into equal size\n",
        "from sklearn.model_selection import train_test_split\n",
        "\n",
        "data_train,data_test,species_train,species_test = train_test_split(data,category, test_size = 0.2, stratify = category,random_state=1)\n",
        "print(np.bincount(species_train))"
      ]
    },
    {
      "cell_type": "code",
      "execution_count": null,
      "metadata": {
        "id": "87JZmLTqQ_ZH"
      },
      "outputs": [],
      "source": [
        "newIris = pd.DataFrame(np.column_stack([data_train,species_train]))"
      ]
    },
    {
      "cell_type": "code",
      "execution_count": null,
      "metadata": {
        "id": "YShUbtjgQ_ZH"
      },
      "outputs": [],
      "source": [
        "#Sort and rearrange the data based on the species\n",
        "\n",
        "setosa = newIris[newIris[4] == 0]\n",
        "versicolor = newIris[newIris[4]==1]\n",
        "virginica  = newIris[newIris[4]==2]\n",
        "newIris = pd.concat([setosa,versicolor,virginica])"
      ]
    },
    {
      "cell_type": "code",
      "execution_count": null,
      "metadata": {
        "id": "Kqm-q4KHQ_ZI"
      },
      "outputs": [],
      "source": [
        "#Splits data based on species\n",
        "\n",
        "setosa_data=newIris[0:40]\n",
        "versicolor_data=newIris[40:80]\n",
        "virginica_data=newIris[80:120]"
      ]
    },
    {
      "cell_type": "markdown",
      "metadata": {
        "id": "Uht7w96AQ_ZI"
      },
      "source": [
        "**Find mean**"
      ]
    },
    {
      "cell_type": "code",
      "execution_count": null,
      "metadata": {
        "id": "98nhwaSyQ_ZI"
      },
      "outputs": [],
      "source": [
        "\n",
        "setosa_mean = setosa_data.mean()\n",
        "versicolor_mean = versicolor_data.mean()\n",
        "virginica_mean= virginica_data.mean()"
      ]
    },
    {
      "cell_type": "markdown",
      "metadata": {
        "id": "DYdhrZ0TQ_ZI"
      },
      "source": [
        "**Find standard deviation**"
      ]
    },
    {
      "cell_type": "code",
      "execution_count": null,
      "metadata": {
        "id": "QlUoFC2oQ_ZJ"
      },
      "outputs": [],
      "source": [
        "\n",
        "setosa_std = setosa_data.std()\n",
        "versicolor_std = versicolor_data.std()\n",
        "virginica_std = virginica_data.std()"
      ]
    },
    {
      "cell_type": "markdown",
      "metadata": {
        "id": "7-hPfZZ4Q_ZJ"
      },
      "source": [
        "## Step 3: Make Predictions\n",
        "\n",
        "We are now ready to make predictions using the summaries prepared from our training data. Making predictions involves calculating the probability that a given data instance belongs to each class, then selecting the class with the largest probability as the prediction. We need to perform the following tasks:\n"
      ]
    },
    {
      "cell_type": "markdown",
      "metadata": {
        "id": "-PSQkkhyQ_ZJ"
      },
      "source": [
        "**Finding Likelihood**"
      ]
    },
    {
      "cell_type": "code",
      "execution_count": null,
      "metadata": {
        "id": "rdj0HshLQ_ZJ"
      },
      "outputs": [],
      "source": [
        "\n",
        "x =[]\n",
        "likelihood = []\n",
        "\n",
        "for j in range(len(Iris)):\n",
        "    distribution = 1\n",
        "    if(j<40):\n",
        "        mean=setosa_mean\n",
        "        std = setosa_std\n",
        "    if(j>=40 and j<80):\n",
        "        mean=versicolor_mean\n",
        "        std = versicolor_std\n",
        "    if(j>=80 and j<120):\n",
        "        mean=virginica_mean\n",
        "        std = virginica_std\n",
        "\n",
        "    for i in range(4):\n",
        "        x = newIris.iloc[j]\n",
        "        a= ((x[i]- mean[i])**2)/(2*std[i]**2)\n",
        "        b= math.sqrt(2*math.pi*(std[i]**2))\n",
        "        y = math.exp(-a)/b\n",
        "        distribution= distribution*y\n",
        "    likelihood.append(distribution)\n",
        "    x=[]\n",
        "print(likelihood)"
      ]
    },
    {
      "cell_type": "markdown",
      "metadata": {
        "id": "3NInrgOeQ_ZK"
      },
      "source": [
        "**Find Priori probability**"
      ]
    },
    {
      "cell_type": "code",
      "execution_count": null,
      "metadata": {
        "id": "6I7q7kqXQ_ZK",
        "outputId": "e96a5aab-963a-4043-ed14-605ee34f0575"
      },
      "outputs": [
        {
          "name": "stdout",
          "output_type": "stream",
          "text": [
            "0.3333333333333333\n",
            "0.3333333333333333\n",
            "0.3333333333333333\n"
          ]
        }
      ],
      "source": [
        "\n",
        "setosa_priori = len(setosa_data)/len(newIris)\n",
        "versicolor_priori = len(versicolor_data)/len(newIris)\n",
        "virginica_priori = len(virginica_data)/len(newIris)\n",
        "\n",
        "print(setosa_priori)\n",
        "print(versicolor_priori)\n",
        "print(virginica_priori)"
      ]
    },
    {
      "cell_type": "code",
      "execution_count": null,
      "metadata": {
        "id": "9NIxeDt3Q_ZK"
      },
      "outputs": [],
      "source": [
        "newTest = pd.DataFrame(np.column_stack([data_test,species_test]))"
      ]
    },
    {
      "cell_type": "markdown",
      "metadata": {
        "id": "MceKhm_VQ_ZL"
      },
      "source": [
        "**Rearrange the data into groups based on the species**"
      ]
    },
    {
      "cell_type": "code",
      "execution_count": null,
      "metadata": {
        "id": "zt3hph7dQ_ZL"
      },
      "outputs": [],
      "source": [
        "setosa = newTest[newTest[4] == 0]\n",
        "versicolor = newTest[newTest[4]==1]\n",
        "virginica  = newTest[newTest[4]==2]\n",
        "newTest = pd.concat([setosa,versicolor,virginica])"
      ]
    },
    {
      "cell_type": "markdown",
      "metadata": {
        "id": "edJdZGxDQ_ZL"
      },
      "source": [
        "**Find likelihood for test data**"
      ]
    },
    {
      "cell_type": "code",
      "execution_count": null,
      "metadata": {
        "id": "grNu5dXVQ_ZL"
      },
      "outputs": [],
      "source": [
        "testLikelihood =[]\n",
        "x=[]\n",
        "testPosterior=[]\n",
        "posteriorSpecies =[]\n",
        "\n",
        "\n",
        "for j in range(len(newTest)):\n",
        "    for c in range(3):\n",
        "        if (c==0):\n",
        "            mean = setosa_mean\n",
        "            std = setosa_std\n",
        "            priori = setosa_priori\n",
        "        if (c == 1):\n",
        "            mean= versicolor_mean\n",
        "            std = versicolor_std\n",
        "            priori = versicolor_priori\n",
        "        if(c == 2):\n",
        "            mean= virginica_mean\n",
        "            std = virginica_std\n",
        "            priori = virginica_priori\n",
        "        distribution = 1\n",
        "        for i in range(4):\n",
        "            x = newTest.iloc[j]\n",
        "            a= ((x[i]- mean[i])**2)/(2*std[i]**2)\n",
        "            b= math.sqrt(2*math.pi*(std[i]**2))\n",
        "            y = math.exp(-a)/b\n",
        "            distribution= distribution*y\n",
        "        x=[]\n",
        "        testLikelihood.append(distribution)\n",
        "        posterior = testLikelihood[c]* priori    #Calculate posterior values\n",
        "        testPosterior.append(posterior)\n",
        "        maxPosterior = testPosterior.index(max(testPosterior))   #Finds the maximum value\n",
        "    posteriorSpecies.append(maxPosterior)\n",
        "\n",
        "\n",
        "    testLikelihood =[]\n",
        "    testPosterior=[]"
      ]
    },
    {
      "cell_type": "markdown",
      "metadata": {
        "id": "7VQM2TsoQ_ZM"
      },
      "source": [
        "## Evaluate"
      ]
    },
    {
      "cell_type": "code",
      "execution_count": null,
      "metadata": {
        "id": "PddIg2OZQ_ZM"
      },
      "outputs": [],
      "source": [
        "from sklearn.metrics import accuracy_score\n",
        "accuracy_score(species_test, posteriorSpecies)"
      ]
    },
    {
      "cell_type": "markdown",
      "metadata": {
        "id": "iFbBygCvQ_ZM"
      },
      "source": [
        "# Assignment\n",
        "\n",
        "\n",
        "The pima-indians-diabetes.csv dataset is originally from the National Institute of Diabetes and Digestive and Kidney Diseases. It is a binary classification dataset. Several constraints were placed on the selection of instances from a larger database. In particular, all patients here are females at least 21 years old of Pima Indian heritage. The objective is to predict if a patient has diabetes based on diagnostic measurements of eight simple features.\n",
        "\n",
        "Attributes:\n",
        "1. preg = Number of times pregnant\n",
        "2. plas = Plasma glucose concentration a 2 hours in an oral glucose tolerance test\n",
        "3. pres = Diastolic blood pressure (mm Hg)\n",
        "4. skin = Triceps skin fold thickness (mm)\n",
        "5. test = 2-Hour serum insulin (mu U/ml)\n",
        "6. mass = Body mass index (weight in kg/(height in m)^2)\n",
        "7. pedi = Diabetes pedigree function\n",
        "8. age = Age (years)\n",
        "9. class = Class variable (1:tested positive for diabetes, 0: tested negative for diabetes)\n",
        "\n",
        "\n"
      ]
    },
    {
      "cell_type": "markdown",
      "metadata": {
        "id": "xjEAjwDpQ_ZM"
      },
      "source": [
        "### Q1. Write a program to implement the Naive Bayesian classifier for a data set stored as a pima-indians-diabetes.csv file  to predict class labels of test data. The predicted class labels for the test instances should be printed as output."
      ]
    },
    {
      "cell_type": "markdown",
      "metadata": {
        "id": "xM3AcmzZQ_ZM"
      },
      "source": [
        "**a. Compute the accuracy of the classifier.**"
      ]
    },
    {
      "cell_type": "code",
      "execution_count": null,
      "metadata": {
        "id": "WPCC9DxjQ_ZN"
      },
      "outputs": [],
      "source": [
        "# Answer here"
      ]
    },
    {
      "cell_type": "markdown",
      "metadata": {
        "id": "d-5l87PUQ_ZN"
      },
      "source": [
        "**b. Calculate the performance metrics - Precision, Recall, Specificity and F1-score.**"
      ]
    },
    {
      "cell_type": "code",
      "execution_count": null,
      "metadata": {
        "id": "rhy14H9zQ_ZN"
      },
      "outputs": [],
      "source": [
        "# Answer here"
      ]
    },
    {
      "cell_type": "markdown",
      "metadata": {
        "id": "2KXMCRkxQ_ZN"
      },
      "source": [
        "**c. Print the Confusion Matrix.**"
      ]
    },
    {
      "cell_type": "code",
      "execution_count": null,
      "metadata": {
        "id": "37OmfurXQ_ZN"
      },
      "outputs": [],
      "source": [
        "# Answer here"
      ]
    },
    {
      "cell_type": "markdown",
      "metadata": {
        "id": "bkKO_sKUQ_ZO"
      },
      "source": [
        "**d. Also evaluate it using Python's Scikit-learn package.**"
      ]
    },
    {
      "cell_type": "code",
      "execution_count": null,
      "metadata": {
        "id": "pSApcDtWQ_ZO"
      },
      "outputs": [],
      "source": [
        "#Answer here"
      ]
    }
  ],
  "metadata": {
    "kernelspec": {
      "display_name": "Python 3",
      "language": "python",
      "name": "python3"
    },
    "language_info": {
      "codemirror_mode": {
        "name": "ipython",
        "version": 3
      },
      "file_extension": ".py",
      "mimetype": "text/x-python",
      "name": "python",
      "nbconvert_exporter": "python",
      "pygments_lexer": "ipython3",
      "version": "3.8.5"
    },
    "colab": {
      "provenance": [],
      "include_colab_link": true
    }
  },
  "nbformat": 4,
  "nbformat_minor": 0
}