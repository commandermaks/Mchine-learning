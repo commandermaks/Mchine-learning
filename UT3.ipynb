{
  "nbformat": 4,
  "nbformat_minor": 0,
  "metadata": {
    "colab": {
      "provenance": [],
      "authorship_tag": "ABX9TyNudVGpzHG3YAjp+KEyddc8",
      "include_colab_link": true
    },
    "kernelspec": {
      "name": "python3",
      "display_name": "Python 3"
    },
    "language_info": {
      "name": "python"
    }
  },
  "cells": [
    {
      "cell_type": "markdown",
      "metadata": {
        "id": "view-in-github",
        "colab_type": "text"
      },
      "source": [
        "<a href=\"https://colab.research.google.com/github/commandermaks/Mchine-learning/blob/Soft-computing/UT3.ipynb\" target=\"_parent\"><img src=\"https://colab.research.google.com/assets/colab-badge.svg\" alt=\"Open In Colab\"/></a>"
      ]
    },
    {
      "cell_type": "code",
      "execution_count": null,
      "metadata": {
        "id": "Isi5tzZl1toX"
      },
      "outputs": [],
      "source": [
        "import numpy as np\n",
        "from keras.datasets import mnist\n",
        "\n",
        "(train_images, train_labels), (test_images, test_labels) = mnist.load_data()\n"
      ]
    },
    {
      "cell_type": "code",
      "source": [
        "import matplotlib.pyplot as plt\n",
        "\n",
        "# Select a random digit\n",
        "index = np.random.randint(0, len(train_images))\n",
        "digit = train_images[index]\n",
        "\n",
        "# Display the digit\n",
        "plt.imshow(digit, cmap='gray')\n",
        "plt.show()\n"
      ],
      "metadata": {
        "colab": {
          "base_uri": "https://localhost:8080/",
          "height": 430
        },
        "id": "AuprUgDJ17t1",
        "outputId": "9830a90c-d424-4b7f-d50f-3a4d397e1b72"
      },
      "execution_count": null,
      "outputs": [
        {
          "output_type": "display_data",
          "data": {
            "text/plain": [
              "<Figure size 640x480 with 1 Axes>"
            ],
            "image/png": "[encoded data removed]"
          },
          "metadata": {}
        }
      ]
    },
    {
      "cell_type": "code",
      "source": [
        "# Flatten the digit\n",
        "flat_digit = digit.flatten()\n"
      ],
      "metadata": {
        "id": "4XLtI2xY1-aJ"
      },
      "execution_count": null,
      "outputs": []
    },
    {
      "cell_type": "code",
      "source": [
        "# Train the Discrete Hopfield Model\n",
        "num_pixels = len(flat_digit)\n",
        "weights = np.zeros((num_pixels, num_pixels))\n",
        "\n",
        "for i in range(num_pixels):\n",
        "    for j in range(num_pixels):\n",
        "        if i == j:\n",
        "            weights[i, j] = 0\n",
        "        else:\n",
        "            x_i = flat_digit[i]\n",
        "            x_j = flat_digit[j]\n",
        "            weights[i, j] += x_i * x_j\n",
        "\n",
        "# Set the diagonal of the weight matrix to zero\n",
        "np.fill_diagonal(weights, 0)\n"
      ],
      "metadata": {
        "colab": {
          "base_uri": "https://localhost:8080/"
        },
        "id": "nHawMsl22ED2",
        "outputId": "0cef7396-3d5b-4d1f-ebd8-808b2e0e98a2"
      },
      "execution_count": null,
      "outputs": [
        {
          "output_type": "stream",
          "name": "stderr",
          "text": [
            "<ipython-input-17-0e1edbbfb2f8>:12: RuntimeWarning: overflow encountered in ubyte_scalars\n",
            "  weights[i, j] += x_i * x_j\n"
          ]
        }
      ]
    },
    {
      "cell_type": "code",
      "source": [
        "x_i = 1 if sum(x_i * x_j) >= 0 else -1"
      ],
      "metadata": {
        "colab": {
          "base_uri": "https://localhost:8080/",
          "height": 165
        },
        "id": "jTOWbwB42IkR",
        "outputId": "67ac4b10-7963-4fe5-c6b2-abd500e6d285"
      },
      "execution_count": null,
      "outputs": [
        {
          "output_type": "error",
          "ename": "TypeError",
          "evalue": "ignored",
          "traceback": [
            "\u001b[0;31m---------------------------------------------------------------------------\u001b[0m",
            "\u001b[0;31mTypeError\u001b[0m                                 Traceback (most recent call last)",
            "\u001b[0;32m<ipython-input-26-3214194eb84f>\u001b[0m in \u001b[0;36m<cell line: 1>\u001b[0;34m()\u001b[0m\n\u001b[0;32m----> 1\u001b[0;31m \u001b[0mx_i\u001b[0m \u001b[0;34m=\u001b[0m \u001b[0;36m1\u001b[0m \u001b[0;32mif\u001b[0m \u001b[0msum\u001b[0m\u001b[0;34m(\u001b[0m\u001b[0mx_i\u001b[0m \u001b[0;34m*\u001b[0m \u001b[0mx_j\u001b[0m\u001b[0;34m)\u001b[0m \u001b[0;34m>=\u001b[0m \u001b[0;36m0\u001b[0m \u001b[0;32melse\u001b[0m \u001b[0;34m-\u001b[0m\u001b[0;36m1\u001b[0m\u001b[0;34m\u001b[0m\u001b[0;34m\u001b[0m\u001b[0m\n\u001b[0m",
            "\u001b[0;31mTypeError\u001b[0m: 'numpy.uint8' object is not iterable"
          ]
        }
      ]
    },
    {
      "cell_type": "code",
      "source": [
        "# Update the Discrete Hopfield Model\n",
        "x = flat_digit.copy()\n",
        "\n",
        "for i in range(num_pixels):\n",
        "    net_input = 0\n",
        "    for j in range(num_pixels):\n",
        "        net_input += weights[i, j] * x[j]\n",
        "    x[i] = 1 if net_input >= 0 else -1\n",
        "\n",
        "# Reshape the output pattern into a 2D array and display it\n",
        "output_digit = x.reshape(digit.shape)\n",
        "plt.imshow(output_digit, cmap='gray')\n",
        "plt.show()\n"
      ],
      "metadata": {
        "colab": {
          "base_uri": "https://localhost:8080/",
          "height": 430
        },
        "id": "JGXDlY-y2Ux8",
        "outputId": "cb25a9e0-a2f4-4ae6-acee-6ea85aa0c725"
      },
      "execution_count": null,
      "outputs": [
        {
          "output_type": "display_data",
          "data": {
            "text/plain": [
              "<Figure size 640x480 with 1 Axes>"
            ],
            "image/png": "[encoded data removed]"
          },
          "metadata": {}
        }
      ]
    },
    {
      "cell_type": "code",
      "source": [
        "# Compute the similarity between the input and output patterns\n"
      ],
      "metadata": {
        "id": "TVGRWris2WF7"
      },
      "execution_count": null,
      "outputs": []
    }
  ]
}