{
  "cells": [
    {
      "cell_type": "markdown",
      "metadata": {
        "id": "view-in-github",
        "colab_type": "text"
      },
      "source": [
        "<a href=\"https://colab.research.google.com/github/commandermaks/Python/blob/main/Perceptron.ipynb\" target=\"_parent\"><img src=\"https://colab.research.google.com/assets/colab-badge.svg\" alt=\"Open In Colab\"/></a>"
      ]
    },
    {
      "cell_type": "markdown",
      "metadata": {
        "id": "WmbZYnnMPxCz"
      },
      "source": [
        "# Perceptron"
      ],
      "id": "WmbZYnnMPxCz"
    },
    {
      "cell_type": "markdown",
      "metadata": {
        "id": "as6SIq2HPxC1"
      },
      "source": [
        "Perceptron is the first neural network to be created. It was designed by Frank Rosenblatt in 1957. Perceptron is the only neural network without any hidden layer, it is the basic single-layered neural network used for binary classification."
      ],
      "id": "as6SIq2HPxC1"
    },
    {
      "cell_type": "markdown",
      "metadata": {
        "id": "Bw8jdJtTPxC1"
      },
      "source": [
        "The goal is to obtain a set of weights w that accurately classifies each instance in our training set. In order to train our Perceptron, we iteratively feed the network with our training data multiple times. Each time the network has seen the full set of training data, we say an epoch has passed. It normally takes many epochs until a weight vector w can be learned to linearly separate our two classes of data."
      ],
      "id": "Bw8jdJtTPxC1"
    },
    {
      "cell_type": "markdown",
      "metadata": {
        "id": "9XvfHpIaPxC2"
      },
      "source": [
        "#### Let us try to understand the Perceptron algorithm using the following data as a example."
      ],
      "id": "9XvfHpIaPxC2"
    },
    {
      "cell_type": "code",
      "execution_count": null,
      "metadata": {
        "id": "MaeuTytxPxC2"
      },
      "outputs": [],
      "source": [
        "import numpy as np\n",
        "from sklearn import datasets\n",
        "import matplotlib.pyplot as plt\n",
        "from sklearn.model_selection import train_test_split"
      ],
      "id": "MaeuTytxPxC2"
    },
    {
      "cell_type": "code",
      "execution_count": null,
      "metadata": {
        "id": "jWixMS05PxC3"
      },
      "outputs": [],
      "source": [
        "X, y = datasets.make_blobs(n_samples=150,n_features=2,\n",
        "                           centers=2,cluster_std=1.05,\n",
        "                           random_state=2)"
      ],
      "id": "jWixMS05PxC3"
    },
    {
      "cell_type": "code",
      "execution_count": null,
      "metadata": {
        "id": "RdBNSxrMPxC3",
        "outputId": "ad11432d-4eb7-4a60-f9a0-f1e3d60ddecb",
        "colab": {
          "base_uri": "https://localhost:8080/",
          "height": 530
        }
      },
      "outputs": [
        {
          "output_type": "execute_result",
          "data": {
            "text/plain": [
              "Text(0.5, 1.0, 'Random Classification Data with 2 classes')"
            ]
          },
          "metadata": {},
          "execution_count": 3
        },
        {
          "output_type": "display_data",
          "data": {
            "text/plain": [
              "<Figure size 720x576 with 1 Axes>"
            ],
            "image/png": "[encoded data removed]"
          },
          "metadata": {
            "needs_background": "light"
          }
        }
      ],
      "source": [
        "#Plotting\n",
        "fig = plt.figure(figsize=(10,8))\n",
        "plt.plot(X[:, 0][y == 0], X[:, 1][y == 0], 'r^')\n",
        "plt.plot(X[:, 0][y == 1], X[:, 1][y == 1], 'bs')\n",
        "plt.xlabel(\"feature 1\")\n",
        "plt.ylabel(\"feature 2\")\n",
        "plt.title('Random Classification Data with 2 classes')"
      ],
      "id": "RdBNSxrMPxC3"
    },
    {
      "cell_type": "markdown",
      "metadata": {
        "id": "9mSpn_xQPxC4"
      },
      "source": [
        "![Perceptron_1.PNG](attachment:Perceptron_1.PNG)"
      ],
      "id": "9mSpn_xQPxC4"
    },
    {
      "cell_type": "markdown",
      "metadata": {
        "id": "uHfW9mXnPxC4"
      },
      "source": [
        "Weights shows the strength of the particular node.\n",
        "A bias value allows you to shift the activation function curve up or down."
      ],
      "id": "uHfW9mXnPxC4"
    },
    {
      "cell_type": "markdown",
      "metadata": {
        "id": "cPIrvn6MPxC4"
      },
      "source": [
        "The perceptron model begins with multiplying all input values and their weights, then adds these values to create the weighted sum. Further, this weighted sum is applied to the activation function or step function to obtain the desired output. The activation functions are used to map the input between the required values like (0, 1) or (-1, 1)."
      ],
      "id": "cPIrvn6MPxC4"
    },
    {
      "cell_type": "markdown",
      "metadata": {
        "id": "XwQFtsMPPxC5"
      },
      "source": [
        "#### Unit Step Function"
      ],
      "id": "XwQFtsMPPxC5"
    },
    {
      "cell_type": "markdown",
      "metadata": {
        "id": "jMWPLuWoPxC5"
      },
      "source": [
        "![image_2022-10-11_172737362.png](attachment:image_2022-10-11_172737362.png)"
      ],
      "id": "jMWPLuWoPxC5"
    },
    {
      "cell_type": "code",
      "execution_count": null,
      "metadata": {
        "id": "xePba1T5PxC5"
      },
      "outputs": [],
      "source": [
        "class Perceptron:\n",
        "    def __init__(self, learning_rate=0.01, n_iters=1000):\n",
        "        self.lr = learning_rate\n",
        "        self.n_iters = n_iters\n",
        "        self.activation_func = self._unit_step_func\n",
        "        self.weights = None\n",
        "        self.bias = None\n",
        "\n",
        "    def fit(self, X, y):\n",
        "        n_samples, n_features = X.shape\n",
        "\n",
        "        # init parameters\n",
        "        self.weights = np.zeros(n_features)\n",
        "        self.bias = 0\n",
        "\n",
        "        y_ = np.array([1 if i > 0 else 0 for i in y])\n",
        "\n",
        "        for _ in range(self.n_iters):\n",
        "\n",
        "            for idx, x_i in enumerate(X):\n",
        "\n",
        "                linear_output = np.dot(x_i, self.weights) + self.bias\n",
        "                y_predicted = self.activation_func(linear_output)\n",
        "\n",
        "                # Perceptron update rule\n",
        "                update = self.lr * (y_[idx] - y_predicted)\n",
        "\n",
        "                self.weights += update * x_i\n",
        "                self.bias += update\n",
        "\n",
        "    def predict(self, X):\n",
        "        linear_output = np.dot(X, self.weights) + self.bias\n",
        "        y_predicted = self.activation_func(linear_output)\n",
        "        return y_predicted\n",
        "\n",
        "    def _unit_step_func(self, x):\n",
        "        return np.where(x >= 0, 1, 0)"
      ],
      "id": "xePba1T5PxC5"
    },
    {
      "cell_type": "markdown",
      "metadata": {
        "id": "4ojgQzs9PxC6"
      },
      "source": [
        "####  Testing"
      ],
      "id": "4ojgQzs9PxC6"
    },
    {
      "cell_type": "code",
      "execution_count": null,
      "metadata": {
        "id": "n7810y5EPxC6",
        "outputId": "1e767c62-4bcb-4c11-8ed2-87eaf41d51da",
        "colab": {
          "base_uri": "https://localhost:8080/"
        }
      },
      "outputs": [
        {
          "output_type": "stream",
          "name": "stdout",
          "text": [
            "Perceptron classification accuracy 1.0\n"
          ]
        }
      ],
      "source": [
        "if __name__ == \"__main__\":\n",
        "    # Imports\n",
        "    import matplotlib.pyplot as plt\n",
        "    from sklearn.model_selection import train_test_split\n",
        "    from sklearn import datasets\n",
        "\n",
        "    def accuracy(y_true, y_pred):\n",
        "        accuracy = np.sum(y_true == y_pred) / len(y_true)\n",
        "        return accuracy\n",
        "\n",
        "    X, y = datasets.make_blobs(\n",
        "        n_samples=150, n_features=2, centers=2, cluster_std=1.05, random_state=2\n",
        "    )\n",
        "    X_train, X_test, y_train, y_test = train_test_split(\n",
        "        X, y, test_size=0.2, random_state=123\n",
        "    )\n",
        "\n",
        "    p = Perceptron(learning_rate=0.01, n_iters=1000)\n",
        "    p.fit(X_train, y_train)\n",
        "    predictions = p.predict(X_test)\n",
        "\n",
        "    print(\"Perceptron classification accuracy\", accuracy(y_test, predictions))"
      ],
      "id": "n7810y5EPxC6"
    },
    {
      "cell_type": "markdown",
      "metadata": {
        "id": "m0pg1MtjPxC6"
      },
      "source": [
        "####  Plotting\n"
      ],
      "id": "m0pg1MtjPxC6"
    },
    {
      "cell_type": "code",
      "execution_count": null,
      "metadata": {
        "id": "L19CRr0wPxC6",
        "outputId": "fe1264b0-4774-4e59-bf1d-ecb5d12261d5",
        "colab": {
          "base_uri": "https://localhost:8080/",
          "height": 265
        }
      },
      "outputs": [
        {
          "output_type": "display_data",
          "data": {
            "text/plain": [
              "<Figure size 432x288 with 1 Axes>"
            ],
            "image/png": "[encoded data removed]"
          },
          "metadata": {
            "needs_background": "light"
          }
        }
      ],
      "source": [
        "fig = plt.figure()\n",
        "ax = fig.add_subplot(1, 1, 1)\n",
        "plt.scatter(X_train[:, 0], X_train[:, 1], marker=\"o\", c=y_train)\n",
        "\n",
        "x0_1 = np.amin(X_train[:, 0])\n",
        "x0_2 = np.amax(X_train[:, 0])\n",
        "\n",
        "x1_1 = (-p.weights[0] * x0_1 - p.bias) / p.weights[1]\n",
        "x1_2 = (-p.weights[0] * x0_2 - p.bias) / p.weights[1]\n",
        "\n",
        "ax.plot([x0_1, x0_2], [x1_1, x1_2], \"k\")\n",
        "\n",
        "ymin = np.amin(X_train[:, 1])\n",
        "ymax = np.amax(X_train[:, 1])\n",
        "ax.set_ylim([ymin - 3, ymax + 3])\n",
        "\n",
        "plt.show()"
      ],
      "id": "L19CRr0wPxC6"
    },
    {
      "cell_type": "markdown",
      "metadata": {
        "id": "wKXPTgFePxC7"
      },
      "source": [
        "## Assignment"
      ],
      "id": "wKXPTgFePxC7"
    },
    {
      "cell_type": "markdown",
      "metadata": {
        "id": "Bq7KzlwCPxC7"
      },
      "source": [
        "#### Implement Perceptron algorithm for AND, OR and NOT logic gate with 2-bit binary input."
      ],
      "id": "Bq7KzlwCPxC7"
    },
    {
      "cell_type": "code",
      "execution_count": null,
      "metadata": {
        "id": "0fvpd5QQPxC7"
      },
      "outputs": [],
      "source": [],
      "id": "0fvpd5QQPxC7"
    }
  ],
  "metadata": {
    "kernelspec": {
      "display_name": "Python 3",
      "language": "python",
      "name": "python3"
    },
    "language_info": {
      "codemirror_mode": {
        "name": "ipython",
        "version": 3
      },
      "file_extension": ".py",
      "mimetype": "text/x-python",
      "name": "python",
      "nbconvert_exporter": "python",
      "pygments_lexer": "ipython3",
      "version": "3.8.5"
    },
    "colab": {
      "provenance": [],
      "include_colab_link": true
    }
  },
  "nbformat": 4,
  "nbformat_minor": 5
}