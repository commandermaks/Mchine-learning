{
  "nbformat": 4,
  "nbformat_minor": 0,
  "metadata": {
    "colab": {
      "provenance": [],
      "authorship_tag": "ABX9TyOPuwW7KKOgODRjbKrQWl/Q",
      "include_colab_link": true
    },
    "kernelspec": {
      "name": "python3",
      "display_name": "Python 3"
    },
    "language_info": {
      "name": "python"
    }
  },
  "cells": [
    {
      "cell_type": "markdown",
      "metadata": {
        "id": "view-in-github",
        "colab_type": "text"
      },
      "source": [
        "<a href=\"https://colab.research.google.com/github/commandermaks/Python/blob/Soft-computing/formula.ipynb\" target=\"_parent\"><img src=\"https://colab.research.google.com/assets/colab-badge.svg\" alt=\"Open In Colab\"/></a>"
      ]
    },
    {
      "cell_type": "markdown",
      "source": [
        "# Recall Formula : tp / (tp + fn)\n",
        " # Precision Formula : tp / (tp + fp)\n",
        " # F1 score Formula : 2 * (Precision * Recall) / (Precision + Recall)"
      ],
      "metadata": {
        "id": "wxW45liZe-lT"
      }
    }
  ]
}