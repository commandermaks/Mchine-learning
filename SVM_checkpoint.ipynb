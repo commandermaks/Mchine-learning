{
  "cells": [
    {
      "cell_type": "markdown",
      "metadata": {
        "id": "view-in-github",
        "colab_type": "text"
      },
      "source": [
        "<a href=\"https://colab.research.google.com/github/commandermaks/Python/blob/main/SVM_checkpoint.ipynb\" target=\"_parent\"><img src=\"https://colab.research.google.com/assets/colab-badge.svg\" alt=\"Open In Colab\"/></a>"
      ]
    },
    {
      "cell_type": "markdown",
      "metadata": {
        "id": "wqf1arCpfM9R"
      },
      "source": [
        "# Import libraries"
      ]
    },
    {
      "cell_type": "code",
      "execution_count": 1,
      "metadata": {
        "id": "peIz3OMcVtX-"
      },
      "outputs": [],
      "source": [
        "import numpy as np\n",
        "import pandas as pd\n",
        "import matplotlib.pyplot as plt"
      ]
    },
    {
      "cell_type": "markdown",
      "metadata": {
        "id": "3xOuPtjDJvyi"
      },
      "source": [
        "**Support Vector Machine**: It is one type classification algorithm, that is used to distinguish the data-points by finding the hyperplane.\n",
        "\n",
        "To separate the two classes of data points, there are many possible hyperplanes that could be chosen. But out target is to choose the hyperplane that maintains the maximum distance between two classes data points. It is used to classify linearly seperable and non-linearly seperable datapoints.![0_0o8xIA4k3gXUDCFU.png](data:image/png;base64,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)"
      ]
    },
    {
      "cell_type": "code",
      "execution_count": 2,
      "metadata": {
        "colab": {
          "base_uri": "https://localhost:8080/",
          "height": 338
        },
        "id": "PH5biUXmVcZa",
        "outputId": "a64e0894-63c9-4749-e692-0b32c51b2c1e"
      },
      "outputs": [
        {
          "output_type": "error",
          "ename": "FileNotFoundError",
          "evalue": "ignored",
          "traceback": [
            "\u001b[0;31m---------------------------------------------------------------------------\u001b[0m",
            "\u001b[0;31mFileNotFoundError\u001b[0m                         Traceback (most recent call last)",
            "\u001b[0;32m<ipython-input-2-429e0bf03f08>\u001b[0m in \u001b[0;36m<cell line: 1>\u001b[0;34m()\u001b[0m\n\u001b[0;32m----> 1\u001b[0;31m \u001b[0mdiabetis_data\u001b[0m\u001b[0;34m=\u001b[0m\u001b[0mpd\u001b[0m\u001b[0;34m.\u001b[0m\u001b[0mread_csv\u001b[0m\u001b[0;34m(\u001b[0m\u001b[0;34m'pima-indians-diabetes.csv'\u001b[0m\u001b[0;34m)\u001b[0m\u001b[0;34m\u001b[0m\u001b[0;34m\u001b[0m\u001b[0m\n\u001b[0m\u001b[1;32m      2\u001b[0m \u001b[0mprint\u001b[0m\u001b[0;34m(\u001b[0m\u001b[0mdiabetis_data\u001b[0m\u001b[0;34m.\u001b[0m\u001b[0mshape\u001b[0m\u001b[0;34m)\u001b[0m\u001b[0;34m\u001b[0m\u001b[0;34m\u001b[0m\u001b[0m\n",
            "\u001b[0;32m/usr/local/lib/python3.10/dist-packages/pandas/util/_decorators.py\u001b[0m in \u001b[0;36mwrapper\u001b[0;34m(*args, **kwargs)\u001b[0m\n\u001b[1;32m    209\u001b[0m                 \u001b[0;32melse\u001b[0m\u001b[0;34m:\u001b[0m\u001b[0;34m\u001b[0m\u001b[0;34m\u001b[0m\u001b[0m\n\u001b[1;32m    210\u001b[0m                     \u001b[0mkwargs\u001b[0m\u001b[0;34m[\u001b[0m\u001b[0mnew_arg_name\u001b[0m\u001b[0;34m]\u001b[0m \u001b[0;34m=\u001b[0m \u001b[0mnew_arg_value\u001b[0m\u001b[0;34m\u001b[0m\u001b[0;34m\u001b[0m\u001b[0m\n\u001b[0;32m--> 211\u001b[0;31m             \u001b[0;32mreturn\u001b[0m \u001b[0mfunc\u001b[0m\u001b[0;34m(\u001b[0m\u001b[0;34m*\u001b[0m\u001b[0margs\u001b[0m\u001b[0;34m,\u001b[0m \u001b[0;34m**\u001b[0m\u001b[0mkwargs\u001b[0m\u001b[0;34m)\u001b[0m\u001b[0;34m\u001b[0m\u001b[0;34m\u001b[0m\u001b[0m\n\u001b[0m\u001b[1;32m    212\u001b[0m \u001b[0;34m\u001b[0m\u001b[0m\n\u001b[1;32m    213\u001b[0m         \u001b[0;32mreturn\u001b[0m \u001b[0mcast\u001b[0m\u001b[0;34m(\u001b[0m\u001b[0mF\u001b[0m\u001b[0;34m,\u001b[0m \u001b[0mwrapper\u001b[0m\u001b[0;34m)\u001b[0m\u001b[0;34m\u001b[0m\u001b[0;34m\u001b[0m\u001b[0m\n",
            "\u001b[0;32m/usr/local/lib/python3.10/dist-packages/pandas/util/_decorators.py\u001b[0m in \u001b[0;36mwrapper\u001b[0;34m(*args, **kwargs)\u001b[0m\n\u001b[1;32m    329\u001b[0m                     \u001b[0mstacklevel\u001b[0m\u001b[0;34m=\u001b[0m\u001b[0mfind_stack_level\u001b[0m\u001b[0;34m(\u001b[0m\u001b[0;34m)\u001b[0m\u001b[0;34m,\u001b[0m\u001b[0;34m\u001b[0m\u001b[0;34m\u001b[0m\u001b[0m\n\u001b[1;32m    330\u001b[0m                 )\n\u001b[0;32m--> 331\u001b[0;31m             \u001b[0;32mreturn\u001b[0m \u001b[0mfunc\u001b[0m\u001b[0;34m(\u001b[0m\u001b[0;34m*\u001b[0m\u001b[0margs\u001b[0m\u001b[0;34m,\u001b[0m \u001b[0;34m**\u001b[0m\u001b[0mkwargs\u001b[0m\u001b[0;34m)\u001b[0m\u001b[0;34m\u001b[0m\u001b[0;34m\u001b[0m\u001b[0m\n\u001b[0m\u001b[1;32m    332\u001b[0m \u001b[0;34m\u001b[0m\u001b[0m\n\u001b[1;32m    333\u001b[0m         \u001b[0;31m# error: \"Callable[[VarArg(Any), KwArg(Any)], Any]\" has no\u001b[0m\u001b[0;34m\u001b[0m\u001b[0;34m\u001b[0m\u001b[0m\n",
            "\u001b[0;32m/usr/local/lib/python3.10/dist-packages/pandas/io/parsers/readers.py\u001b[0m in \u001b[0;36mread_csv\u001b[0;34m(filepath_or_buffer, sep, delimiter, header, names, index_col, usecols, squeeze, prefix, mangle_dupe_cols, dtype, engine, converters, true_values, false_values, skipinitialspace, skiprows, skipfooter, nrows, na_values, keep_default_na, na_filter, verbose, skip_blank_lines, parse_dates, infer_datetime_format, keep_date_col, date_parser, dayfirst, cache_dates, iterator, chunksize, compression, thousands, decimal, lineterminator, quotechar, quoting, doublequote, escapechar, comment, encoding, encoding_errors, dialect, error_bad_lines, warn_bad_lines, on_bad_lines, delim_whitespace, low_memory, memory_map, float_precision, storage_options)\u001b[0m\n\u001b[1;32m    948\u001b[0m     \u001b[0mkwds\u001b[0m\u001b[0;34m.\u001b[0m\u001b[0mupdate\u001b[0m\u001b[0;34m(\u001b[0m\u001b[0mkwds_defaults\u001b[0m\u001b[0;34m)\u001b[0m\u001b[0;34m\u001b[0m\u001b[0;34m\u001b[0m\u001b[0m\n\u001b[1;32m    949\u001b[0m \u001b[0;34m\u001b[0m\u001b[0m\n\u001b[0;32m--> 950\u001b[0;31m     \u001b[0;32mreturn\u001b[0m \u001b[0m_read\u001b[0m\u001b[0;34m(\u001b[0m\u001b[0mfilepath_or_buffer\u001b[0m\u001b[0;34m,\u001b[0m \u001b[0mkwds\u001b[0m\u001b[0;34m)\u001b[0m\u001b[0;34m\u001b[0m\u001b[0;34m\u001b[0m\u001b[0m\n\u001b[0m\u001b[1;32m    951\u001b[0m \u001b[0;34m\u001b[0m\u001b[0m\n\u001b[1;32m    952\u001b[0m \u001b[0;34m\u001b[0m\u001b[0m\n",
            "\u001b[0;32m/usr/local/lib/python3.10/dist-packages/pandas/io/parsers/readers.py\u001b[0m in \u001b[0;36m_read\u001b[0;34m(filepath_or_buffer, kwds)\u001b[0m\n\u001b[1;32m    603\u001b[0m \u001b[0;34m\u001b[0m\u001b[0m\n\u001b[1;32m    604\u001b[0m     \u001b[0;31m# Create the parser.\u001b[0m\u001b[0;34m\u001b[0m\u001b[0;34m\u001b[0m\u001b[0m\n\u001b[0;32m--> 605\u001b[0;31m     \u001b[0mparser\u001b[0m \u001b[0;34m=\u001b[0m \u001b[0mTextFileReader\u001b[0m\u001b[0;34m(\u001b[0m\u001b[0mfilepath_or_buffer\u001b[0m\u001b[0;34m,\u001b[0m \u001b[0;34m**\u001b[0m\u001b[0mkwds\u001b[0m\u001b[0;34m)\u001b[0m\u001b[0;34m\u001b[0m\u001b[0;34m\u001b[0m\u001b[0m\n\u001b[0m\u001b[1;32m    606\u001b[0m \u001b[0;34m\u001b[0m\u001b[0m\n\u001b[1;32m    607\u001b[0m     \u001b[0;32mif\u001b[0m \u001b[0mchunksize\u001b[0m \u001b[0;32mor\u001b[0m \u001b[0miterator\u001b[0m\u001b[0;34m:\u001b[0m\u001b[0;34m\u001b[0m\u001b[0;34m\u001b[0m\u001b[0m\n",
            "\u001b[0;32m/usr/local/lib/python3.10/dist-packages/pandas/io/parsers/readers.py\u001b[0m in \u001b[0;36m__init__\u001b[0;34m(self, f, engine, **kwds)\u001b[0m\n\u001b[1;32m   1440\u001b[0m \u001b[0;34m\u001b[0m\u001b[0m\n\u001b[1;32m   1441\u001b[0m         \u001b[0mself\u001b[0m\u001b[0;34m.\u001b[0m\u001b[0mhandles\u001b[0m\u001b[0;34m:\u001b[0m \u001b[0mIOHandles\u001b[0m \u001b[0;34m|\u001b[0m \u001b[0;32mNone\u001b[0m \u001b[0;34m=\u001b[0m \u001b[0;32mNone\u001b[0m\u001b[0;34m\u001b[0m\u001b[0;34m\u001b[0m\u001b[0m\n\u001b[0;32m-> 1442\u001b[0;31m         \u001b[0mself\u001b[0m\u001b[0;34m.\u001b[0m\u001b[0m_engine\u001b[0m \u001b[0;34m=\u001b[0m \u001b[0mself\u001b[0m\u001b[0;34m.\u001b[0m\u001b[0m_make_engine\u001b[0m\u001b[0;34m(\u001b[0m\u001b[0mf\u001b[0m\u001b[0;34m,\u001b[0m \u001b[0mself\u001b[0m\u001b[0;34m.\u001b[0m\u001b[0mengine\u001b[0m\u001b[0;34m)\u001b[0m\u001b[0;34m\u001b[0m\u001b[0;34m\u001b[0m\u001b[0m\n\u001b[0m\u001b[1;32m   1443\u001b[0m \u001b[0;34m\u001b[0m\u001b[0m\n\u001b[1;32m   1444\u001b[0m     \u001b[0;32mdef\u001b[0m \u001b[0mclose\u001b[0m\u001b[0;34m(\u001b[0m\u001b[0mself\u001b[0m\u001b[0;34m)\u001b[0m \u001b[0;34m->\u001b[0m \u001b[0;32mNone\u001b[0m\u001b[0;34m:\u001b[0m\u001b[0;34m\u001b[0m\u001b[0;34m\u001b[0m\u001b[0m\n",
            "\u001b[0;32m/usr/local/lib/python3.10/dist-packages/pandas/io/parsers/readers.py\u001b[0m in \u001b[0;36m_make_engine\u001b[0;34m(self, f, engine)\u001b[0m\n\u001b[1;32m   1733\u001b[0m                 \u001b[0;32mif\u001b[0m \u001b[0;34m\"b\"\u001b[0m \u001b[0;32mnot\u001b[0m \u001b[0;32min\u001b[0m \u001b[0mmode\u001b[0m\u001b[0;34m:\u001b[0m\u001b[0;34m\u001b[0m\u001b[0;34m\u001b[0m\u001b[0m\n\u001b[1;32m   1734\u001b[0m                     \u001b[0mmode\u001b[0m \u001b[0;34m+=\u001b[0m \u001b[0;34m\"b\"\u001b[0m\u001b[0;34m\u001b[0m\u001b[0;34m\u001b[0m\u001b[0m\n\u001b[0;32m-> 1735\u001b[0;31m             self.handles = get_handle(\n\u001b[0m\u001b[1;32m   1736\u001b[0m                 \u001b[0mf\u001b[0m\u001b[0;34m,\u001b[0m\u001b[0;34m\u001b[0m\u001b[0;34m\u001b[0m\u001b[0m\n\u001b[1;32m   1737\u001b[0m                 \u001b[0mmode\u001b[0m\u001b[0;34m,\u001b[0m\u001b[0;34m\u001b[0m\u001b[0;34m\u001b[0m\u001b[0m\n",
            "\u001b[0;32m/usr/local/lib/python3.10/dist-packages/pandas/io/common.py\u001b[0m in \u001b[0;36mget_handle\u001b[0;34m(path_or_buf, mode, encoding, compression, memory_map, is_text, errors, storage_options)\u001b[0m\n\u001b[1;32m    854\u001b[0m         \u001b[0;32mif\u001b[0m \u001b[0mioargs\u001b[0m\u001b[0;34m.\u001b[0m\u001b[0mencoding\u001b[0m \u001b[0;32mand\u001b[0m \u001b[0;34m\"b\"\u001b[0m \u001b[0;32mnot\u001b[0m \u001b[0;32min\u001b[0m \u001b[0mioargs\u001b[0m\u001b[0;34m.\u001b[0m\u001b[0mmode\u001b[0m\u001b[0;34m:\u001b[0m\u001b[0;34m\u001b[0m\u001b[0;34m\u001b[0m\u001b[0m\n\u001b[1;32m    855\u001b[0m             \u001b[0;31m# Encoding\u001b[0m\u001b[0;34m\u001b[0m\u001b[0;34m\u001b[0m\u001b[0m\n\u001b[0;32m--> 856\u001b[0;31m             handle = open(\n\u001b[0m\u001b[1;32m    857\u001b[0m                 \u001b[0mhandle\u001b[0m\u001b[0;34m,\u001b[0m\u001b[0;34m\u001b[0m\u001b[0;34m\u001b[0m\u001b[0m\n\u001b[1;32m    858\u001b[0m                 \u001b[0mioargs\u001b[0m\u001b[0;34m.\u001b[0m\u001b[0mmode\u001b[0m\u001b[0;34m,\u001b[0m\u001b[0;34m\u001b[0m\u001b[0;34m\u001b[0m\u001b[0m\n",
            "\u001b[0;31mFileNotFoundError\u001b[0m: [Errno 2] No such file or directory: 'pima-indians-diabetes.csv'"
          ]
        }
      ],
      "source": [
        "diabetis_data=pd.read_csv('pima-indians-diabetes.csv')\n",
        "print(diabetis_data.shape)"
      ]
    },
    {
      "cell_type": "code",
      "execution_count": null,
      "metadata": {
        "id": "hi89Xe5zVcZd"
      },
      "outputs": [],
      "source": [
        "diabetis_data.head()"
      ]
    },
    {
      "cell_type": "markdown",
      "metadata": {
        "id": "zMJhF-HgFfMk"
      },
      "source": [
        "**Used dataset:**\n",
        "**Pima Indians Diabetes** Dataset involves predicting the onset of diabetes within 5 years in Pima Indians given medical details.\n",
        "\n",
        "Our goal is to build a predictive model to check whether a patient has diabetic or not using **Support Vector Machine (SVM)**."
      ]
    },
    {
      "cell_type": "code",
      "execution_count": null,
      "metadata": {
        "id": "i5Jml1qRVcZg"
      },
      "outputs": [],
      "source": [
        "import seaborn as sns\n",
        "from sklearn.datasets import load_iris\n",
        "iris = sns.load_dataset(\"iris\")\n",
        "print(type(iris))\n",
        "y1 = diabetis_data.outcome\n",
        "X1 = diabetis_data.drop('outcome',axis=1)\n",
        "sns.pairplot(diabetis_data, hue=\"outcome\",palette=\"bright\")"
      ]
    },
    {
      "cell_type": "code",
      "execution_count": null,
      "metadata": {
        "id": "sqz2U2ZyVcZi"
      },
      "outputs": [],
      "source": [
        "diabetis_data = diabetis_data.rename(columns = {\"class\":\"outcome\"})"
      ]
    },
    {
      "cell_type": "code",
      "execution_count": null,
      "metadata": {
        "id": "SZ3V4jm0muaH"
      },
      "outputs": [],
      "source": [
        "diabetis_data['outcome'].value_counts()"
      ]
    },
    {
      "cell_type": "code",
      "execution_count": null,
      "metadata": {
        "id": "q_kjjvigd2xT"
      },
      "outputs": [],
      "source": [
        "diabetis_data = diabetis_data.rename(columns = {\"class\":\"outcome\"})"
      ]
    },
    {
      "cell_type": "markdown",
      "metadata": {
        "id": "bMl5jhMkTvpA"
      },
      "source": [
        "# Data visualization part. Ratio of normal and chances of diabetic"
      ]
    },
    {
      "cell_type": "code",
      "execution_count": null,
      "metadata": {
        "id": "Q1VJXWphTsdA"
      },
      "outputs": [],
      "source": [
        "plt.hist(diabetis_data.outcome)\n",
        "#plt.title(\"Normal\",fontsize=20)\n",
        "plt.xlabel(\"Diabetic and non-diabetic patient\",fontsize=20)\n",
        "plt.ylabel(\"Frequency\",fontsize=20)\n",
        "plt.show()"
      ]
    },
    {
      "cell_type": "code",
      "execution_count": null,
      "metadata": {
        "id": "sNUXiwlMeCOf"
      },
      "outputs": [],
      "source": [
        "target=diabetis_data['outcome']\n",
        "print (target)"
      ]
    },
    {
      "cell_type": "code",
      "execution_count": null,
      "metadata": {
        "id": "S068jrxJgKen"
      },
      "outputs": [],
      "source": [
        "independent = diabetis_data.drop([\"outcome\"],axis=1)\n",
        "independent.head()"
      ]
    },
    {
      "cell_type": "markdown",
      "metadata": {
        "id": "3IjxXBqKgpRR"
      },
      "source": [
        "# scaling of features"
      ]
    },
    {
      "cell_type": "code",
      "execution_count": null,
      "metadata": {
        "id": "-mbeUc6FgfpH"
      },
      "outputs": [],
      "source": [
        "from sklearn.preprocessing import StandardScaler\n",
        "data3 = independent.copy()\n",
        "sc = StandardScaler()\n",
        "data3[[\"preg\",\n",
        "\"plas\",\n",
        "\"pres\",\n",
        "\"skin\",\n",
        "\"test\",\n",
        "\"mass\",\n",
        "\"pedi\",\n",
        "\"age\"]] = sc.fit_transform(data3[[\"preg\",\n",
        "\"plas\",\n",
        "\"pres\",\n",
        "\"skin\",\n",
        "\"test\",\n",
        "\"mass\",\n",
        "\"pedi\",\n",
        "\"age\"]])"
      ]
    },
    {
      "cell_type": "code",
      "execution_count": null,
      "metadata": {
        "id": "I435tA_UhFaw"
      },
      "outputs": [],
      "source": [
        "data3.head()"
      ]
    },
    {
      "cell_type": "markdown",
      "metadata": {
        "id": "ITD4jiBko9-g"
      },
      "source": [
        "# Splitting the dataset into training and testing"
      ]
    },
    {
      "cell_type": "code",
      "execution_count": null,
      "metadata": {
        "id": "XdCs0cy0hIyP"
      },
      "outputs": [],
      "source": [
        "from sklearn.model_selection import train_test_split\n",
        "x_train,x_test,y_train,y_test= train_test_split(data3, target, test_size = 0.2)\n",
        "print (x_train.shape)\n",
        "print(y_train.shape)\n",
        "print (x_test.shape)\n",
        "print (y_test.shape)"
      ]
    },
    {
      "cell_type": "markdown",
      "metadata": {
        "id": "QRsDLYmzpTpg"
      },
      "source": [
        "## fitting the model with training data\n",
        "## Using linear kernel\n",
        "\n",
        "#### Use when data is linearly separable"
      ]
    },
    {
      "cell_type": "code",
      "execution_count": null,
      "metadata": {
        "id": "p7dQ61DUpKuM"
      },
      "outputs": [],
      "source": [
        "from sklearn.svm import SVC\n",
        "C = 1.0  # SVM regularization parameter\n",
        "classifier = SVC(kernel = 'linear', random_state = 0,C=1)\n",
        "classifier.fit(x_train, y_train)"
      ]
    },
    {
      "cell_type": "markdown",
      "metadata": {
        "id": "IiEtmFOwqhD4"
      },
      "source": [
        "## It's the time for model evaluattion"
      ]
    },
    {
      "cell_type": "code",
      "execution_count": null,
      "metadata": {
        "id": "rUgiz9APqaGZ"
      },
      "outputs": [],
      "source": [
        "y_pred = classifier.predict(x_test)\n",
        "\n",
        "\n",
        "from sklearn.metrics import confusion_matrix\n",
        "cm = confusion_matrix(y_test, y_pred)\n",
        "\n",
        "print (\"Confusion Matrix : \\n\", cm)"
      ]
    },
    {
      "cell_type": "markdown",
      "metadata": {
        "id": "BaDUS9M7s6NW"
      },
      "source": [
        "# Accuracy score calculation in the model"
      ]
    },
    {
      "cell_type": "code",
      "execution_count": null,
      "metadata": {
        "id": "taMC4QHgqmmc"
      },
      "outputs": [],
      "source": [
        "from sklearn.metrics import accuracy_score,classification_report\n",
        "print (\"Testing Accuracy : \", accuracy_score(y_test, y_pred))\n",
        "print(classification_report(y_test,y_pred))"
      ]
    },
    {
      "cell_type": "markdown",
      "metadata": {
        "id": "cAOxadKIyt1k"
      },
      "source": [
        "# Evaluation using k fold cross validation"
      ]
    },
    {
      "cell_type": "code",
      "execution_count": null,
      "metadata": {
        "id": "1Nk2Rx-xytRl"
      },
      "outputs": [],
      "source": [
        "from sklearn.model_selection import KFold\n",
        "from sklearn.model_selection import cross_val_score\n",
        "C=1\n",
        "lr1= SVC(kernel = 'linear', random_state = 0,C=C)\n",
        "scores = cross_val_score(lr1, data3, target, cv=10, scoring='accuracy')\n",
        "#cv means number of folds\n",
        "for k in scores:\n",
        "  print (k)\n",
        "\n",
        "print ('avarege accuracy will be',k.mean())\n",
        "\n",
        "\n",
        "\n",
        "\n"
      ]
    },
    {
      "cell_type": "markdown",
      "metadata": {
        "id": "Aixanb6vzCAK"
      },
      "source": [
        "# Training with the Radial Basis Function (RBF) kernel"
      ]
    },
    {
      "cell_type": "code",
      "execution_count": null,
      "metadata": {
        "id": "ummTMCHBvSMr"
      },
      "outputs": [],
      "source": [
        "from sklearn.svm import SVC\n",
        "C = 1.0  # SVM regularization parameter\n",
        "classifier1 = SVC(kernel = 'rbf', random_state = 0)\n",
        "classifier1.fit(x_train, y_train)"
      ]
    },
    {
      "cell_type": "code",
      "execution_count": null,
      "metadata": {
        "id": "qlrkPjeg5ZQo"
      },
      "outputs": [],
      "source": [
        "y_pred1 = classifier1.predict(x_test)\n",
        "\n",
        "\n",
        "from sklearn.metrics import confusion_matrix\n",
        "cm1 = confusion_matrix(y_test, y_pred1)\n",
        "\n",
        "print (\"Confusion Matrix : \\n\", cm1)"
      ]
    },
    {
      "cell_type": "code",
      "execution_count": null,
      "metadata": {
        "id": "AicvJaQc5m53"
      },
      "outputs": [],
      "source": [
        "from sklearn.metrics import accuracy_score,classification_report\n",
        "print (\"Testing Accuracy : \", accuracy_score(y_test, y_pred1))\n",
        "print(classification_report(y_test,y_pred1))"
      ]
    },
    {
      "cell_type": "markdown",
      "metadata": {
        "id": "OyWWN7ZZVcZ0"
      },
      "source": [
        "# Evaluation using k fold cross validation"
      ]
    },
    {
      "cell_type": "code",
      "execution_count": null,
      "metadata": {
        "id": "zGKK3IS2VcZ0"
      },
      "outputs": [],
      "source": [
        "from sklearn.model_selection import KFold\n",
        "from sklearn.model_selection import cross_val_score\n",
        "C=1\n",
        "classifier1 = SVC(kernel = 'rbf', random_state = 0)\n",
        "scores1 = cross_val_score(classifier1, data3, target, cv=10, scoring='accuracy')\n",
        "#cv means number of folds\n",
        "for k1 in scores1:\n",
        "  print (k1)\n",
        "\n",
        "print ('avarege accuracy will be',k1.mean())"
      ]
    },
    {
      "cell_type": "markdown",
      "metadata": {
        "id": "xM6uQd0mEFxU"
      },
      "source": [
        "# Training with the Polynomial kernel,\n",
        "## Higher degree polynomial kernels allow a more flexible decision boundary, here we have chosen the degree of polynomial 3"
      ]
    },
    {
      "cell_type": "code",
      "execution_count": null,
      "metadata": {
        "id": "tF37erDL6Ykw"
      },
      "outputs": [],
      "source": [
        "from sklearn.svm import SVC\n",
        "#C = 1.0  # SVM regularization parameter\n",
        "classifier2 = SVC(kernel = 'poly', random_state = 0,degree=3)\n",
        "classifier2.fit(x_train, y_train)"
      ]
    },
    {
      "cell_type": "code",
      "execution_count": null,
      "metadata": {
        "id": "N0Kceu5CEeBZ"
      },
      "outputs": [],
      "source": [
        "y_pred2 = classifier2.predict(x_test)\n",
        "\n",
        "\n",
        "from sklearn.metrics import confusion_matrix\n",
        "cm = confusion_matrix(y_test, y_pred2)\n",
        "\n",
        "print (\"Confusion Matrix : \\n\", cm)"
      ]
    },
    {
      "cell_type": "code",
      "execution_count": null,
      "metadata": {
        "id": "Il3qrpD-EjD5"
      },
      "outputs": [],
      "source": [
        "from sklearn.metrics import accuracy_score,classification_report\n",
        "print (\"Testing Accuracy with degree 3 polynomial kernel : \", accuracy_score(y_test, y_pred2))\n",
        "print(classification_report(y_test,y_pred2))"
      ]
    },
    {
      "cell_type": "markdown",
      "metadata": {
        "id": "GqaCrtAqVcZ3"
      },
      "source": [
        "# Evaluation using k fold cross validation"
      ]
    },
    {
      "cell_type": "code",
      "execution_count": null,
      "metadata": {
        "id": "EtFY9jFGVcZ3"
      },
      "outputs": [],
      "source": [
        "from sklearn.model_selection import KFold\n",
        "from sklearn.model_selection import cross_val_score\n",
        "C=1\n",
        "classifier2 = SVC(kernel = 'poly', random_state = 0,degree=3)\n",
        "scores2 = cross_val_score(classifier2, data3, target, cv=10, scoring='accuracy')\n",
        "#cv means number of folds\n",
        "for k2 in scores2:\n",
        "  print (k2)\n",
        "\n",
        "print ('avarege accuracy will be',k2.mean())\n"
      ]
    },
    {
      "cell_type": "code",
      "execution_count": null,
      "metadata": {
        "id": "_m4T8f44VcaD"
      },
      "outputs": [],
      "source": [
        "from sklearn.datasets import make_circles"
      ]
    },
    {
      "cell_type": "markdown",
      "metadata": {
        "id": "NhfXv4JlVcaE"
      },
      "source": [
        "# For non-linear dataset"
      ]
    },
    {
      "cell_type": "code",
      "execution_count": null,
      "metadata": {
        "id": "uz_JYIDjVcaE"
      },
      "outputs": [],
      "source": [
        "# importing libraries\n",
        "import numpy as np\n",
        "import matplotlib.pyplot as plt\n",
        "from sklearn.datasets import make_circles\n",
        "from mpl_toolkits.mplot3d import Axes3D\n",
        "\n",
        "# generating data\n",
        "X, Y = make_circles(n_samples = 500, noise = 0.02)\n",
        "\n",
        "# visualizing data\n",
        "plt.scatter(X[:, 0], X[:, 1], c = Y, marker = '+')\n",
        "plt.show()\n"
      ]
    },
    {
      "cell_type": "code",
      "execution_count": null,
      "metadata": {
        "id": "HYjP-fGvVcaF"
      },
      "outputs": [],
      "source": [
        "# adding a new dimension to X\n",
        "X1 = X[:, 0].reshape((-1, 1))\n",
        "X2 = X[:, 1].reshape((-1, 1))\n",
        "X3 = (X1**2 + X2**2)\n",
        "X = np.hstack((X, X3))\n",
        "\n",
        "# visualizing data in higher dimension\n",
        "fig = plt.figure()\n",
        "axes = fig.add_subplot(111, projection = '3d')\n",
        "axes.scatter(X1, X2, X1**2 + X2**2, c = Y, depthshade = True)\n",
        "plt.show()\n"
      ]
    },
    {
      "cell_type": "code",
      "execution_count": null,
      "metadata": {
        "id": "Q0gNKbkPVcaF"
      },
      "outputs": [],
      "source": [
        "# create support vector classifier using a linear kernel and classify in 3D space\n",
        "from sklearn import svm\n",
        "\n",
        "svc = svm.SVC(kernel = 'linear')\n",
        "svc.fit(X, Y)\n",
        "w = svc.coef_\n",
        "b = svc.intercept_\n",
        "\n",
        "# plotting the separating hyperplane\n",
        "x1 = X[:, 0].reshape((-1, 1))\n",
        "x2 = X[:, 1].reshape((-1, 1))\n",
        "x1, x2 = np.meshgrid(x1, x2)\n",
        "x3 = -(w[0][0]*x1 + w[0][1]*x2 + b) / w[0][2]\n",
        "\n",
        "fig = plt.figure()\n",
        "axes2 = fig.add_subplot(111, projection = '3d')\n",
        "axes2.scatter(X1, X2, X1**2 + X2**2, c = Y, depthshade = True)\n",
        "axes1 = fig.gca(projection = '3d')\n",
        "axes1.plot_surface(x1, x2, x3, alpha = 0.01)\n",
        "plt.show()\n"
      ]
    },
    {
      "cell_type": "markdown",
      "metadata": {
        "id": "qV3dc4VWZm-b"
      },
      "source": [
        "# Assignment-1\n",
        "\n",
        "Build a classifier to predict whether the patient has 10-year risk of future coronary heart disease (CHD) or not.\n",
        "\n",
        "Download/upload the csv file named as framingham.csv from the website link (https://www.framinghamheartstudy.org/). This problem has two classes, 0 and 1. O represents normal patient and 1 represents the patient is having the chances of heart disease.\n",
        "\n",
        "<p>\n",
        "<li> Upload the dataset.csv file in your notebook </li>\n",
        "<li> Scaling the data part. </li>\n",
        "<li> Choose some necessary features if u want. </li>\n",
        "<li> Split the data into training (to fit te model) and testing (to validate) (75%-25%).</li>\n",
        "<li> Fit the model with the training data using <b> linear kernel, polynomial (try for degree 3 and 4), Gaussian/ RBF kernel. </b></li>\n",
        "<li> Calculate the classification report (precision, recall and F1-score) and compare the accuracy score by using different kernel functions. </li>\n",
        "<li> Evaluate the model performance on training and testing data. </li>\n",
        "<li> Use <b>K-fold cross validation</b> technique to calculate the fold-wise accuracy and then calculate the average accuracy.\n",
        "</p>"
      ]
    },
    {
      "cell_type": "code",
      "execution_count": null,
      "metadata": {
        "id": "CXcuWiv2EnEC"
      },
      "outputs": [],
      "source": [
        "cardiac=pd.read_csv('/content/framingham.csv')\n",
        "cardiac.head()"
      ]
    },
    {
      "cell_type": "code",
      "execution_count": null,
      "metadata": {
        "id": "HSeL7cyrh_xA"
      },
      "outputs": [],
      "source": []
    }
  ],
  "metadata": {
    "colab": {
      "provenance": [],
      "include_colab_link": true
    },
    "kernelspec": {
      "display_name": "Python 3",
      "language": "python",
      "name": "python3"
    },
    "language_info": {
      "codemirror_mode": {
        "name": "ipython",
        "version": 3
      },
      "file_extension": ".py",
      "mimetype": "text/x-python",
      "name": "python",
      "nbconvert_exporter": "python",
      "pygments_lexer": "ipython3",
      "version": "3.8.8"
    }
  },
  "nbformat": 4,
  "nbformat_minor": 0
}