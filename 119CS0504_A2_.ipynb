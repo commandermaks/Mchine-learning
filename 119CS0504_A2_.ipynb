{
  "cells": [
    {
      "cell_type": "markdown",
      "metadata": {
        "id": "view-in-github",
        "colab_type": "text"
      },
      "source": [
        "<a href=\"https://colab.research.google.com/github/commandermaks/Mchine-learning/blob/Soft-computing/119CS0504_A2_.ipynb\" target=\"_parent\"><img src=\"https://colab.research.google.com/assets/colab-badge.svg\" alt=\"Open In Colab\"/></a>"
      ]
    },
    {
      "cell_type": "code",
      "execution_count": null,
      "metadata": {
        "colab": {
          "base_uri": "https://localhost:8080/",
          "height": 282
        },
        "id": "REQfeGHsHhU7",
        "outputId": "f0c8cb52-0549-41db-aad7-991bd9a67e24"
      },
      "outputs": [
        {
          "output_type": "display_data",
          "data": {
            "text/plain": [
              "<Figure size 432x288 with 1 Axes>"
            ],
            "image/png": "[encoded data removed]"
          },
          "metadata": {
            "needs_background": "light"
          }
        }
      ],
      "source": [
        "from sklearn.datasets import load_iris\n",
        "import numpy as np\n",
        "import matplotlib.pyplot as plt\n",
        "\n",
        "data = load_iris()\n",
        "x = data.data\n",
        "y = data.target\n",
        "plt.scatter(x[:50, 0], x[:50, 1], x[:50, 2],\n",
        "            color='blue', marker='o', label='Setosa')\n",
        "plt.scatter(x[50:100, 0], x[50:100, 1], x[50:100, 2],\n",
        "            color='green', marker='o', label='Versicolor')\n",
        "plt.scatter(x[100:150, 0], x[100:150, 1], x[100:150, 2],\n",
        "            color='red', marker='o', label='Verginica')\n",
        "\n",
        "plt.xlabel('Sepal length [cm]')\n",
        "plt.ylabel('Petal length [cm]')\n",
        "plt.legend(loc='upper left')\n",
        "\n",
        "plt.show()"
      ]
    },
    {
      "cell_type": "code",
      "execution_count": null,
      "metadata": {
        "scrolled": false,
        "colab": {
          "base_uri": "https://localhost:8080/"
        },
        "id": "qfD8Ra5_HhU_",
        "outputId": "ca5906ff-f334-4850-aee6-7e057af96548"
      },
      "outputs": [
        {
          "output_type": "stream",
          "name": "stdout",
          "text": [
            "32 80 109\n",
            "[5.2 4.1 1.5 0.1] [5.5 2.4 3.8 1.1] [7.2 3.6 6.1 2.5]\n"
          ]
        }
      ],
      "source": [
        "c1 = np.random.random()\n",
        "c1 = round(c1*50)\n",
        "c2 = np.random.random()\n",
        "c2 = round(c2*50+50)\n",
        "c3 = np.random.random()\n",
        "c3 = round(c3*50+100)\n",
        "print(c1,c2,c3)\n",
        "print(x[c1],x[c2],x[c3])\n",
        "\n"
      ]
    },
    {
      "cell_type": "code",
      "execution_count": null,
      "metadata": {
        "scrolled": true,
        "colab": {
          "base_uri": "https://localhost:8080/"
        },
        "id": "IEWv-VwkHhVA",
        "outputId": "d6478c64-45a6-4f7b-ee31-916638f1a1d7"
      },
      "outputs": [
        {
          "output_type": "stream",
          "name": "stdout",
          "text": [
            "[[0.31, 0.6, 0.08999999999999997], [0.52, 0.33, 0.14999999999999997], [0.13, 0.48, 0.39], [0.235, 0.325, 0.44], [0.13, 0.62, 0.25], [0.4, 0.0, 0.6], [0.07, 0.5, 0.42999999999999994], [0.255, 0.33, 0.415], [0.18, 0.32, 0.5], [0.285, 0.34, 0.37500000000000006], [0.54, 0.08, 0.37999999999999995], [0.43, 0.03, 0.54], [0.6, 0.31, 0.09000000000000002], [0.21, 0.09, 0.7000000000000001], [0.37, 0.34, 0.29], [0.41, 0.21, 0.3800000000000001], [0.6, 0.36, 0.040000000000000036], [0.07, 0.33, 0.5999999999999999], [0.37, 0.44, 0.19], [0.22, 0.33, 0.45], [0.47, 0.05, 0.48000000000000004], [0.37, 0.19, 0.44], [0.61, 0.3, 0.09000000000000002], [0.42, 0.16, 0.42000000000000004], [0.04, 0.57, 0.39], [0.175, 0.33, 0.49499999999999994], [0.24, 0.28, 0.48], [0.02, 0.62, 0.36], [0.285, 0.24, 0.4750000000000001], [0.46, 0.09, 0.45000000000000007], [0.25, 0.06, 0.69], [0.29, 0.285, 0.425], [0.33, 0.23, 0.43999999999999995], [0.02, 0.48, 0.5], [0.275, 0.33, 0.39499999999999996], [0.3, 0.33, 0.36999999999999994], [0.265, 0.285, 0.45], [0.26, 0.15, 0.59], [0.14, 0.19, 0.6699999999999999], [0.54, 0.23, 0.22999999999999995], [0.44, 0.09, 0.4700000000000001], [0.205, 0.325, 0.47000000000000003], [0.61, 0.25, 0.14], [0.5, 0.4, 0.09999999999999998], [0.24, 0.03, 0.73], [0.31, 0.39, 0.29999999999999993], [0.31, 0.21, 0.48], [0.13, 0.39, 0.48], [0.46, 0.5, 0.040000000000000036], [0.32, 0.18, 0.49999999999999994], [0.24, 0.22, 0.54], [0.49, 0.13, 0.38], [0.05, 0.27, 0.6799999999999999], [0.28, 0.09, 0.63], [0.23, 0.46, 0.31], [0.2, 0.25, 0.55], [0.28, 0.21, 0.51], [0.32, 0.225, 0.45499999999999996], [0.2, 0.7, 0.10000000000000009], [0.195, 0.33, 0.4749999999999999], [0.195, 0.32, 0.48499999999999993], [0.39, 0.08, 0.53], [0.66, 0.08, 0.25999999999999995], [0.34, 0.32, 0.3399999999999999], [0.52, 0.39, 0.08999999999999997], [0.23, 0.02, 0.75], [0.67, 0.15, 0.17999999999999997], [0.38, 0.02, 0.6], [0.43, 0.22, 0.3500000000000001], [0.33, 0.24, 0.42999999999999994], [0.57, 0.37, 0.06000000000000005], [0.51, 0.44, 0.04999999999999999], [0.14, 0.48, 0.38], [0.57, 0.22, 0.21000000000000005], [0.38, 0.08, 0.54], [0.5, 0.17, 0.32999999999999996], [0.28, 0.53, 0.18999999999999995], [0.01, 0.5, 0.49], [0.06, 0.23, 0.71], [0.02, 0.6, 0.38], [0.21, 0.46, 0.33], [0.26, 0.35, 0.39], [0.58, 0.17, 0.25], [0.1, 0.42, 0.48000000000000004], [0.32, 0.23, 0.44999999999999996], [0.245, 0.305, 0.45], [0.315, 0.315, 0.37000000000000005], [0.24, 0.07, 0.69], [0.21, 0.54, 0.25], [0.325, 0.23, 0.44500000000000006], [0.4, 0.35, 0.25], [0.29, 0.19, 0.52], [0.59, 0.31, 0.10000000000000003], [0.04, 0.48, 0.48], [0.16, 0.04, 0.7999999999999999], [0.22, 0.52, 0.26], [0.38, 0.21, 0.41000000000000003], [0.36, 0.57, 0.07000000000000006], [0.07, 0.28, 0.6499999999999999], [0.32, 0.54, 0.1399999999999999], [0.33, 0.33, 0.3399999999999999], [0.3, 0.35, 0.35], [0.57, 0.27, 0.16000000000000003], [0.08, 0.67, 0.25], [0.24, 0.26, 0.5], [0.32, 0.23, 0.44999999999999996], [0.24, 0.7, 0.06000000000000005], [0.185, 0.35, 0.46499999999999997], [0.35, 0.08, 0.5700000000000001], [0.17, 0.61, 0.21999999999999997], [0.12, 0.45, 0.43], [0.28, 0.44, 0.27999999999999997], [0.06, 0.28, 0.6599999999999999], [0.335, 0.25, 0.41500000000000004], [0.23, 0.57, 0.20000000000000007], [0.03, 0.55, 0.41999999999999993], [0.34, 0.31, 0.3499999999999999], [0.08, 0.52, 0.4], [0.42, 0.06, 0.52], [0.19, 0.62, 0.19000000000000006], [0.41, 0.27, 0.32000000000000006], [0.06, 0.61, 0.32999999999999996], [0.33, 0.235, 0.43499999999999994], [0.32, 0.41, 0.26999999999999996], [0.07, 0.62, 0.30999999999999994], [0.29, 0.285, 0.425], [0.46, 0.34, 0.2], [0.04, 0.52, 0.43999999999999995], [0.62, 0.33, 0.04999999999999999], [0.23, 0.39, 0.38], [0.32, 0.56, 0.11999999999999988], [0.0, 0.23, 0.77], [0.305, 0.325, 0.37000000000000005], [0.32, 0.215, 0.46499999999999997], [0.275, 0.325, 0.39999999999999997], [0.22, 0.14, 0.64], [0.46, 0.5, 0.040000000000000036], [0.33, 0.06, 0.6099999999999999], [0.03, 0.08, 0.89], [0.54, 0.1, 0.36], [0.33, 0.08, 0.59], [0.31, 0.02, 0.6699999999999999], [0.25, 0.47, 0.28], [0.12, 0.38, 0.5], [0.19, 0.36, 0.45000000000000007], [0.18, 0.28, 0.54], [0.1, 0.13, 0.77], [0.08, 0.28, 0.64], [0.345, 0.22, 0.43500000000000005], [0.335, 0.265, 0.4]]\n"
          ]
        }
      ],
      "source": [
        "cluster_weights = []\n",
        "for i in x:\n",
        "    temp = []\n",
        "    rand_int1 = np.random.random()\n",
        "    rand_int1 = round(rand_int1*70)/100\n",
        "    rand_int2 = np.random.random()\n",
        "    rand_int2 = round(rand_int2*70)/100\n",
        "    rand_int3 = 0\n",
        "    if(rand_int1+rand_int2>=1):\n",
        "        rand_int1=rand_int1/2\n",
        "        rand_int2=rand_int2/2\n",
        "        rand_int3=1-rand_int1-rand_int2\n",
        "    else:\n",
        "        rand_int3=1-rand_int1-rand_int2\n",
        "    temp.append(rand_int1)\n",
        "    temp.append(rand_int2)\n",
        "    temp.append(rand_int3)\n",
        "    cluster_weights.append(temp)\n",
        "print(cluster_weights)"
      ]
    },
    {
      "cell_type": "code",
      "execution_count": null,
      "metadata": {
        "id": "zkHaC3DUHhVA"
      },
      "outputs": [],
      "source": [
        "def dist(a,b):\n",
        "    return (a[0]-b[0])**2 + (a[1]-b[1])**2 + (a[2]-b[2])**2 + (a[3]-b[3])**2\n",
        "\n",
        "m = 3\n",
        "\n",
        "objective = 0\n",
        "\n",
        "count = 0\n",
        "for i in x:\n",
        "    dist1 = dist(i,x[c1])\n",
        "    dist2 = dist(i,x[c2])\n",
        "    dist3 = dist(i,x[c3])\n",
        "    objective += (cluster_weights[count][0]**m)*dist1 + (cluster_weights[count][1]**m)*dist2 + (cluster_weights[count][2]**m)*dist3\n",
        "    count +=1\n",
        "\n",
        "for i in range(50):\n",
        "    weighted_sum_w1 = [0,0,0,0]\n",
        "    weighted_sum_w2 = [0,0,0,0]\n",
        "    weighted_sum_w3 = [0,0,0,0]\n",
        "    sum_w1 = 0\n",
        "    sum_w2 = 0\n",
        "    sum_w3 = 0\n",
        "\n",
        "    count = 0\n",
        "    for i in x:\n",
        "        weighted_sum_w1 = weighted_sum_w1 + (cluster_weights[count][0]**m)*i\n",
        "        weighted_sum_w2 = weighted_sum_w2 + (cluster_weights[count][1]**m)*i\n",
        "        weighted_sum_w3 = weighted_sum_w3 + (cluster_weights[count][2]**m)*i\n",
        "\n",
        "        sum_w1 = sum_w1 + cluster_weights[count][0]**m\n",
        "        sum_w2 = sum_w2 + cluster_weights[count][1]**m\n",
        "        sum_w3 = sum_w3 + cluster_weights[count][2]**m\n",
        "        count = count + 1\n",
        "\n",
        "    predicted_c1 = weighted_sum_w1/sum_w1\n",
        "    predicted_c2 = weighted_sum_w2/sum_w2\n",
        "    predicted_c3 = weighted_sum_w3/sum_w3\n",
        "\n",
        "    new_weights = []\n",
        "    for i in x:\n",
        "        temp = []\n",
        "        new_weight1 = 0\n",
        "        new_weight2 = 0\n",
        "        new_weight3 = 0\n",
        "        new_weight1 = (dist(i,predicted_c1)/dist(i,predicted_c1))**(2/(m-1)) + (dist(i,predicted_c1)/dist(i,predicted_c2))**(2/(m-1)) + (dist(i,predicted_c1)/dist(i,predicted_c3))**(2/(m-1))\n",
        "\n",
        "        new_weight2 = (dist(i,predicted_c2)/dist(i,predicted_c1))**(2/(m-1)) + (dist(i,predicted_c2)/dist(i,predicted_c2))**(2/(m-1)) + (dist(i,predicted_c2)/dist(i,predicted_c3))**(2/(m-1))\n",
        "\n",
        "        new_weight3 = (dist(i,predicted_c3)/dist(i,predicted_c1))**(2/(m-1)) + (dist(i,predicted_c3)/dist(i,predicted_c2))**(2/(m-1)) + (dist(i,predicted_c3)/dist(i,predicted_c3))**(2/(m-1))\n",
        "        temp.append(1/new_weight1)\n",
        "        temp.append(1/new_weight2)\n",
        "        temp.append(1/new_weight3)\n",
        "        new_weights.append(temp)\n",
        "\n",
        "    count = 0\n",
        "    new_objective = 0\n",
        "    for i in x:\n",
        "        dist1 = dist(i,predicted_c1)\n",
        "        dist2 = dist(i,predicted_c2)\n",
        "        dist3 = dist(i,predicted_c3)\n",
        "\n",
        "        new_objective += (new_weights[count][0]**m)*dist1 + (new_weights[count][1]**m)*dist2 + (new_weights[count][2]**m)*dist3\n",
        "        count +=1\n",
        "    if(new_objective<objective):\n",
        "        cluster_weights = new_weights\n",
        "\n",
        "\n"
      ]
    },
    {
      "cell_type": "code",
      "execution_count": null,
      "metadata": {
        "colab": {
          "base_uri": "https://localhost:8080/",
          "height": 406
        },
        "id": "JUaKCRRLHhVB",
        "outputId": "66bc16b6-d583-4d28-9a20-4a05be8153c9"
      },
      "outputs": [
        {
          "output_type": "stream",
          "name": "stdout",
          "text": [
            "[0, 0, 0, 0, 0, 0, 0, 0, 0, 0, 0, 0, 0, 0, 0, 0, 0, 0, 0, 0, 0, 0, 0, 0, 0, 0, 0, 0, 0, 0, 0, 0, 0, 0, 0, 0, 0, 0, 0, 0, 0, 0, 0, 0, 0, 0, 0, 0, 0, 0, 1, 2, 1, 2, 2, 2, 2, 2, 2, 2, 2, 2, 2, 2, 2, 2, 2, 2, 2, 2, 2, 2, 2, 2, 2, 2, 2, 1, 2, 2, 2, 2, 2, 2, 2, 2, 2, 2, 2, 2, 2, 2, 2, 2, 2, 2, 2, 2, 2, 2, 1, 2, 1, 1, 1, 1, 2, 1, 1, 1, 1, 1, 1, 2, 1, 1, 1, 1, 1, 2, 1, 2, 1, 2, 1, 1, 2, 2, 1, 1, 1, 1, 1, 2, 1, 1, 1, 1, 2, 1, 1, 1, 2, 1, 1, 1, 2, 1, 1, 2]\n",
            "[0 0 0 0 0 0 0 0 0 0 0 0 0 0 0 0 0 0 0 0 0 0 0 0 0 0 0 0 0 0 0 0 0 0 0 0 0\n",
            " 0 0 0 0 0 0 0 0 0 0 0 0 0 1 1 1 1 1 1 1 1 1 1 1 1 1 1 1 1 1 1 1 1 1 1 1 1\n",
            " 1 1 1 1 1 1 1 1 1 1 1 1 1 1 1 1 1 1 1 1 1 1 1 1 1 1 2 2 2 2 2 2 2 2 2 2 2\n",
            " 2 2 2 2 2 2 2 2 2 2 2 2 2 2 2 2 2 2 2 2 2 2 2 2 2 2 2 2 2 2 2 2 2 2 2 2 2\n",
            " 2 2]\n"
          ]
        },
        {
          "output_type": "display_data",
          "data": {
            "text/plain": [
              "<Figure size 432x288 with 1 Axes>"
            ],
            "image/png": "[encoded data removed]"
          },
          "metadata": {
            "needs_background": "light"
          }
        }
      ],
      "source": [
        "predicted_y = []\n",
        "\n",
        "for i in cluster_weights:\n",
        "    maxi = np.fmax(np.fmax(i[0],i[1]),i[2])\n",
        "    if(maxi == i[0]):\n",
        "        predicted_y.append(0)\n",
        "    elif(maxi == i[1]):\n",
        "        predicted_y.append(1)\n",
        "    elif(maxi == i[2]):\n",
        "        predicted_y.append(2)\n",
        "print(predicted_y)\n",
        "print(y)\n",
        "c1 = []\n",
        "c2 = []\n",
        "c3 = []\n",
        "count = 0\n",
        "for i in predicted_y:\n",
        "    if(i==0):\n",
        "        c1.append(x[count])\n",
        "    elif(i==1):\n",
        "        c2.append(x[count])\n",
        "    elif(i==2):\n",
        "        c3.append(x[count])\n",
        "    count +=1\n",
        "\n",
        "temp1 = []\n",
        "temp2 = []\n",
        "for i in range(len(c1)):\n",
        "    temp1.append(c1[i][0])\n",
        "    temp2.append(c1[i][1])\n",
        "\n",
        "plt.scatter(temp1, temp2,\n",
        "            color='blue', marker='o', label='c1')\n",
        "temp1 = []\n",
        "temp2 = []\n",
        "for i in range(len(c2)):\n",
        "    temp1.append(c2[i][0])\n",
        "    temp2.append(c2[i][1])\n",
        "plt.scatter(temp1,temp2,\n",
        "            color='green', marker='o', label='c2')\n",
        "temp1 = []\n",
        "temp2 = []\n",
        "for i in range(len(c3)):\n",
        "    temp1.append(c3[i][0])\n",
        "    temp2.append(c3[i][1])\n",
        "plt.scatter(temp1, temp2,\n",
        "            color='red', marker='o', label='c3')\n",
        "\n",
        "plt.xlabel('Sepal length [cm]')\n",
        "plt.ylabel('Petal length [cm]')\n",
        "plt.legend(loc='upper left')\n",
        "\n",
        "plt.show()"
      ]
    }
  ],
  "metadata": {
    "kernelspec": {
      "display_name": "Python 3 (ipykernel)",
      "language": "python",
      "name": "python3"
    },
    "language_info": {
      "codemirror_mode": {
        "name": "ipython",
        "version": 3
      },
      "file_extension": ".py",
      "mimetype": "text/x-python",
      "name": "python",
      "nbconvert_exporter": "python",
      "pygments_lexer": "ipython3",
      "version": "3.9.12"
    },
    "colab": {
      "provenance": [],
      "include_colab_link": true
    }
  },
  "nbformat": 4,
  "nbformat_minor": 0
}